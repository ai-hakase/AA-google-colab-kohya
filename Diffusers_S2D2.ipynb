{
  "cells": [
    {
      "cell_type": "markdown",
      "metadata": {
        "id": "view-in-github",
        "colab_type": "text"
      },
      "source": [
        "<a href=\"https://colab.research.google.com/github/koya-jp/AA-google-colab-kohya/blob/master/Diffusers_S2D2.ipynb\" target=\"_parent\"><img src=\"https://colab.research.google.com/assets/colab-badge.svg\" alt=\"Open In Colab\"/></a>"
      ]
    },
    {
      "cell_type": "markdown",
      "source": [
        "# **Diffusers ライブラリを用いて、画像を生成するスクリプト。**\n",
        "\n",
        "[Github](https://github.com/koya-jp/AA-google-colab-kohya/blob/master/Diffusers_S2D2.ipynb)"
      ],
      "metadata": {
        "id": "FDWXJo4TqbdN"
      }
    },
    {
      "cell_type": "code",
      "execution_count": 5,
      "metadata": {
        "id": "JE2OGdlsZZ4W",
        "colab": {
          "base_uri": "https://localhost:8080/"
        },
        "outputId": "b8a1b9b2-db17-4175-d01c-367d14c037c6"
      },
      "outputs": [
        {
          "output_type": "stream",
          "name": "stdout",
          "text": [
            "Mounted at /content/drive\n"
          ]
        }
      ],
      "source": [
        "#@title Driveに接続, ライブラリの追加 { display-mode: \"form\" }\n",
        "\n",
        "# Driveに接続\n",
        "from google.colab import drive\n",
        "drive.mount('/content/drive', force_remount=True)\n",
        "\n",
        "# ライブラリの追加\n",
        "# !pip install diffusers==0.12.1\n",
        "# diffusers[torch] 以外の のインストール\n",
        "!pip install --upgrade diffusers==0.17.1 transformers accelerate scipy ftfy safetensors txt2img >/dev/null 2>&1\n",
        "!pip install k-diffusion >/dev/null 2>&1\n"
      ]
    },
    {
      "cell_type": "code",
      "source": [
        "#@title 自動切断されないようにするコード { display-mode: \"form\" }\n",
        "%%javascript\n",
        "function ClickConnect(){\n",
        "console.log(\"Working\");\n",
        "document.querySelector(\"colab-toolbar-button#connect\").click()\n",
        "}setInterval(ClickConnect,60000)"
      ],
      "metadata": {
        "colab": {
          "base_uri": "https://localhost:8080/",
          "height": 17
        },
        "id": "XesbQoV9Igeq",
        "outputId": "c1318ab9-f30b-4bc1-852f-8cb2d036fcdd"
      },
      "execution_count": 6,
      "outputs": [
        {
          "output_type": "display_data",
          "data": {
            "text/plain": [
              "<IPython.core.display.Javascript object>"
            ],
            "application/javascript": [
              "function ClickConnect(){\n",
              "console.log(\"Working\");\n",
              "document.querySelector(\"colab-toolbar-button#connect\").click()\n",
              "}setInterval(ClickConnect,60000)\n"
            ]
          },
          "metadata": {}
        }
      ]
    },
    {
      "cell_type": "code",
      "source": [
        "#@title 「S2D2」のリポジトリを複製し、起動するのに必要な要件をインストール { display-mode: \"form\" }\n",
        "\n",
        "%cd /content\n",
        "!git clone https://github.com/keisuke-okb/S2D2 >/dev/null 2>&1\n",
        "\n",
        "%cd ./S2D2\n",
        "!git pull\n",
        "!touch __init__.py\n",
        "!pip install -r requirements.txt >/dev/null 2>&1\n"
      ],
      "metadata": {
        "id": "aYM1Dv3QeR08",
        "outputId": "8007dc95-84a7-472e-ba27-2204a255b407",
        "colab": {
          "base_uri": "https://localhost:8080/"
        }
      },
      "execution_count": 7,
      "outputs": [
        {
          "output_type": "stream",
          "name": "stdout",
          "text": [
            "/content\n",
            "/content/S2D2\n",
            "Already up to date.\n"
          ]
        }
      ]
    },
    {
      "cell_type": "code",
      "source": [
        "#@title S2D2の準備、embeddingsを読み込む関数「load_embeddings」の定義 { display-mode: \"form\" }\n",
        "\n",
        "import s2d2\n",
        "import os\n",
        "import random\n",
        "import datetime\n",
        "import torch\n",
        "from PIL import Image\n",
        "\n",
        "import diffusers\n",
        "from diffusers import (StableDiffusionPipeline,StableDiffusionImg2ImgPipeline)\n",
        "from diffusers.utils import numpy_to_pil\n",
        "from diffusers.pipelines.stable_diffusion import StableDiffusionPipelineOutput\n",
        "\n",
        "class StableDiffusionImageGeneratorMod(s2d2.StableDiffusionImageGenerator):\n",
        "  def __init__(self, sd_safetensor_path: str, device: str=\"cuda\", dtype: torch.dtype=torch.float16):\n",
        "    self.device = torch.device(device)\n",
        "    self.pipe = StableDiffusionPipeline.from_pretrained(\n",
        "      sd_safetensor_path,\n",
        "      torch_dtype=dtype,\n",
        "      custom_pipeline=\"lpw_stable_diffusion\"\n",
        "    ).to(device)\n",
        "    self.pipe_i2i = StableDiffusionImg2ImgPipeline.from_pretrained(\n",
        "      sd_safetensor_path,\n",
        "      torch_dtype=dtype,\n",
        "      custom_pipeline=\"lpw_stable_diffusion\"\n",
        "    ).to(device)\n",
        "    self.pipe.safety_checker = None\n",
        "    self.pipe_i2i.safety_checker = None\n",
        "    return\n",
        "\n",
        "  def load_embeddings(self, safetensors_path: str, fileName: str, token: str):\n",
        "    if token != \"\":\n",
        "      self.pipe.load_textual_inversion(safetensors_path, weight_name=fileName, token=token)\n",
        "      self.pipe_i2i.load_textual_inversion(safetensors_path, weight_name=fileName, token=token)\n",
        "    else:\n",
        "      self.pipe.load_textual_inversion(safetensors_path, weight_name=fileName)\n",
        "      self.pipe_i2i.load_textual_inversion(safetensors_path, weight_name=fileName)\n",
        "    return\n",
        "\n",
        "  %cd /content/"
      ],
      "metadata": {
        "id": "f1A_NB1peg33",
        "outputId": "18c0e9b0-0818-46ea-9521-cd8d1f9fff7d",
        "colab": {
          "base_uri": "https://localhost:8080/"
        }
      },
      "execution_count": 8,
      "outputs": [
        {
          "output_type": "stream",
          "name": "stdout",
          "text": [
            "/content\n"
          ]
        }
      ]
    },
    {
      "cell_type": "code",
      "source": [
        "# @title Model、LoRA の読み込み　 { display-mode: \"form\" }\n",
        "\n",
        "#モデル\n",
        "# @markdown *Model ------------------------**\n",
        "model_path = \"runwayml/stable-diffusion-v1-5\" #@param {type:\"string\"}\n",
        "\n",
        "generator = StableDiffusionImageGeneratorMod(\n",
        "  model_path,\n",
        "  device=\"cuda\",\n",
        ")\n",
        "\n",
        "# @markdown **LoRA1 ------------------------**\n",
        "LoRA_USE = False #@param {type:\"boolean\"}\n",
        "if LoRA_USE == True:\n",
        "  LoRA=\"/content/drive/MyDrive/StableDiffusion/Lora/flat2.safetensors\" #@param {type:\"string\"}\n",
        "  LoRA_alpha = -1.0 #@param {type:\"number\"}\n",
        "  generator.load_lora(LoRA, alpha=LoRA_alpha)\n",
        "\n",
        "# @markdown **LoRA2 ------------------------**\n",
        "LoRA_USE_2= True #@param {type:\"boolean\"}\n",
        "if LoRA_USE_2== True:\n",
        "  LoRA_2=\"/content/drive/MyDrive/StableDiffusion/Lora/pretty-cat-rum-sama.safetensors\" #@param {type:\"string\"}\n",
        "  LoRA_alpha_2 = 0.6 #@param {type:\"number\"}\n",
        "  generator.load_lora(LoRA_2, alpha=LoRA_alpha_2)\n",
        "\n",
        "# @markdown **LoRA3 ------------------------**\n",
        "LoRA_USE_3= False #@param {type:\"boolean\"}\n",
        "if LoRA_USE_3== True:\n",
        "  LoRA_3=None #@param (string)\n",
        "  LoRA_alpha_3 = 0.3 #@param {type:\"number\"}\n",
        "  pipe = load_safetensors_lora(pipe, LoRA_3, alpha=LoRA_alpha_3)\n",
        "\n",
        "# @markdown **LoRA4 ------------------------**\n",
        "LoRA_USE_4= False #@param {type:\"boolean\"}\n",
        "if LoRA_USE_4== True:\n",
        "  LoRA_4=\"/content/drive/MyDrive/Lora/EkunePOVFellatioV2.safetensors\" #@param (string)\n",
        "  LoRA_alpha_4 = 0.5 #@param {type:\"number\"}\n",
        "  pipe = load_safetensors_lora(pipe, LoRA_4, alpha=LoRA_alpha_4)\n"
      ],
      "metadata": {
        "id": "PWoW_04veO4o",
        "colab": {
          "base_uri": "https://localhost:8080/"
        },
        "outputId": "9afe5317-b2c2-4727-c25e-93c2041cb0fc"
      },
      "execution_count": 12,
      "outputs": [
        {
          "output_type": "stream",
          "name": "stderr",
          "text": [
            "`text_config_dict` is provided which will be used to initialize `CLIPTextConfig`. The value `text_config[\"id2label\"]` will be overriden.\n",
            "`text_config_dict` is provided which will be used to initialize `CLIPTextConfig`. The value `text_config[\"id2label\"]` will be overriden.\n"
          ]
        }
      ]
    },
    {
      "cell_type": "code",
      "source": [
        "# @title Embeddings を設定。\n",
        "\n",
        "#@markdown **Embeddings 1**\n",
        "embeddings_USE = False #@param {type:\"boolean\"}\n",
        "if embeddings_USE == True:\n",
        "  safetensors_path = \"/content/drive/MyDrive/StableDiffusion/embeddings/EasyNegative.safetensors\" #@param {type:\"string\"}\n",
        "  file_name = \"EasyNegative.safetensors\" #@param {type:\"string\"}\n",
        "  #@markdown ***トリガーワード（EasyNegativeなど）***\n",
        "  token = \"EasyNegative\" #@param {type:\"string\"}\n",
        "  generator.load_embeddings(safetensors_path, file_name, token)\n",
        "\n",
        "#@markdown **Embeddings 2**\n",
        "embeddings_USE_2 = False #@param {type:\"boolean\"}\n",
        "if embeddings_USE_2 == True:\n",
        "  safetensors_path_2 = \"/content/drive/MyDrive/StableDiffusion/embeddings/ulzzang-6500-v1.1.pt\" #@param {type:\"string\"}\n",
        "  file_name_2 = \"ulzzang-6500-v1.1.pt\" #@param {type:\"string\"}\n",
        "  token_2 = \"ulzzang-6500-v1.1\" #@param {type:\"string\"}\n",
        "  generator.load_embeddings(safetensors_path_2, file_name_2, token_2)\n",
        "\n",
        "#@markdown **Embeddings 3**\n",
        "embeddings_USE = True #@param {type:\"boolean\"}\n",
        "if embeddings_USE == True:\n",
        "  safetensors_path_3 = \"/content/drive/MyDrive/StableDiffusion/embeddings/pureerosface_v1.pt\" #@param {type:\"string\"}\n",
        "  file_name_3 = \"pureerosface_v1.pt\" #@param {type:\"string\"}\n",
        "  token_3 = \"pureerosface_v1\" #@param {type:\"string\"}\n",
        "  generator.load_embeddings(safetensors_path_3, file_name_3, token_3)"
      ],
      "metadata": {
        "cellView": "form",
        "id": "zzVpQ1OEtOkz"
      },
      "execution_count": 10,
      "outputs": []
    },
    {
      "cell_type": "code",
      "execution_count": null,
      "metadata": {
        "id": "WbyLfEFDYlcA",
        "collapsed": true,
        "cellView": "form",
        "colab": {
          "base_uri": "https://localhost:8080/",
          "height": 49,
          "referenced_widgets": [
            "df0c0bf583a84f379857bdfbb6bd90ce",
            "afaa359f5e5a4d9a91b55bbd28539353",
            "a017912510ed4d51b6967c5bd358a479",
            "532ba550629a4c738d2bb8b8ad01de71",
            "bfecf8973bda4123a2caa93ec2d7902e",
            "6575ae919f73472fa4a4cdff6aa21b54",
            "d325718a579946368a22326fcd57813c",
            "8eb322ac30f44994ae1fe1bae4ab0544",
            "1ed8f81affb34f07985ef726cce9caa0",
            "78741e2c214d4cd68c863932b4939ffc",
            "73ae31be50cd48408ed32648c4617762"
          ]
        },
        "outputId": "42b1b150-797d-40bf-cf06-da2a4ff11b76"
      },
      "outputs": [
        {
          "output_type": "display_data",
          "data": {
            "text/plain": [
              "  0%|          | 0/40 [00:00<?, ?it/s]"
            ],
            "application/vnd.jupyter.widget-view+json": {
              "version_major": 2,
              "version_minor": 0,
              "model_id": "df0c0bf583a84f379857bdfbb6bd90ce"
            }
          },
          "metadata": {}
        }
      ],
      "source": [
        "# @title 画像を生成  （content/drive/MyDrive/txt2img_output-タイムスタンプ に保存。）\n",
        "\n",
        "# 必要なモジュールやライブラリをインポートする\n",
        "import os\n",
        "import shutil\n",
        "from google.colab import files\n",
        "from PIL.PngImagePlugin import PngInfo\n",
        "\n",
        "# ファイル名に使う日付と時刻のフォーマットを定義する\n",
        "file_format = \"%Y%m%d_%H%M%S\"\n",
        "i=0\n",
        "\n",
        "# 現在の日本時間を取得\n",
        "jst_now = datetime.datetime.now(datetime.timezone(datetime.timedelta(hours=9)))\n",
        "#txt2img出力画像の保存先\n",
        "#@markdown 出力画像を保存するフォルダ\n",
        "save_path = f\"/content/drive/MyDrive/txt2img_output-{jst_now.strftime(file_format)}\"\n",
        "os.makedirs(save_path, exist_ok=True)\n",
        "\n",
        "\n",
        "#@markdown ポジティブプロンプト\n",
        "prompt = \"beautyfull of white fur cat, realistic, (masterpiece:1.3), (extremely detailed CG unity 8k wallpaper), (best quality), (ultra-detailed), (best illustration), (illustration), (sharp focus), Brightness 0.8, Contrast 1.2, detailed, intricate, soft lighting, colorful, colorized, extremely delicate and beautiful, perfect anatomy, perfect hands, beautiful detailed face, beautiful detailed fingers, looking at viewer, no humans, animal focus, white fur, gray fur, whiskers, black eyes, colored sclera, traditional media, \" #@param {type:\"string\"}\n",
        "#@markdown ネガティブプロンプト\n",
        "negative = \"EasyNegative,(malformed hands, missing fingers, extra digit, fewer digits, bad hands, poorly drawn hands, poorly drawn fingers, missing fingers:1.8),  (face only,body only,legs only,tail only:1.3), have two heads:1.5, lowres, cropped, (worst quality, low quality:1.4), normal quality, jpeg artifacts, desaturated, greyscale, (panel layout, multiple views, multiple angle, two shot, split view, grid view, out of focus, blurry, bokeh:2.0). (text, error, signature, watermark, username, artist name, logo, name, censored:1.5), fat, ugly, mutation, mutated, deformed, bad anatomy, missing arms, three arms, four arms, poorly drawn face, deformed iris, simple iris, heterochromia, long neck, long body, disfigured, extra limb, missing limb, floating limbs, disconnected limbs, (zombie, sketch, interlocked fingers, comic), nsfw\" #@param {type:\"string\"}\n",
        "#@markdown スケジューラ(サンプラー)\n",
        "scheduler=\"dpm++_2m_karras\" #@param [\"unipc\",\"euler_a\",\"euler\",\"ddim\",\"ddpm\",\"deis\",\"dpm2\",\"dpm++_2s\",\"dpm++_2m\",\"dpm++_2m_karras\",\"dpm++_sde\",\"dpm++_sde_karras\",\"heun\",\"heun_karras\",\"lms\",\"lms_karras\",\"pndm\",\"dpm++_2m_karras\"]\n",
        "#@markdown ステップ数\n",
        "steps = 40 #@param {type:\"integer\"}\n",
        "#@markdown 画像サイズ\n",
        "img_width = \"512\" # @param [512, 768, 1024, 1536]\n",
        "img_height = \"512\" # @param [512, 768, 1024, 1536]\n",
        "#@markdown 出力枚数\n",
        "batch_count = 10 #@param {type: \"integer\"}\n",
        "#@markdown CFG\n",
        "CFG = 7 #@param {type: \"number\"}\n",
        "#@markdown シード（-1の時はランダム）\n",
        "seed = -1 #@param {type: \"integer\"}\n",
        "if seed is None or seed == -1:\n",
        "  inputSeed = random.randint(0, 2147483647)\n",
        "else:\n",
        "  valueSeed = seed\n",
        "\n",
        "#@markdown Hires.fix の有効化\n",
        "hires_fix = True #@param {type: \"boolean\"}\n",
        "enhance_steps = 2 if hires_fix else 1\n",
        "#@markdown 解像度倍率(乗算後、最も近い8の倍数のサイズとなる)\n",
        "upscaling_ratio = 2 #@param {type: \"number\"}\n",
        "#@markdown アップスケールステップ数\n",
        "up_steps = 20 #@param {type: \"integer\"}\n",
        "#@markdown denoising strength（小さいほど元画像を尊重） （0.5～0.7）が推奨\n",
        "denoising_strength = 0.60 #@param {type: \"number\"}\n",
        "\n",
        "\n",
        "for i in range(batch_count):\n",
        "  if seed is None or seed == -1:valueSeed = inputSeed + i\n",
        "  image = generator.diffusion_enhance(\n",
        "    prompt,\n",
        "    negative,\n",
        "    scheduler_name=scheduler,\n",
        "    num_inference_steps=steps,\n",
        "    num_inference_steps_enhance=up_steps,\n",
        "    guidance_scale=CFG,\n",
        "    width=img_width,\n",
        "    height=img_height,\n",
        "    seed=valueSeed,\n",
        "    upscale_target=\"latent\",\n",
        "    interpolate_mode=\"bicubic\",\n",
        "    antialias=True,\n",
        "    upscale_by=upscaling_ratio,\n",
        "    enhance_steps=enhance_steps,\n",
        "    denoising_strength=denoising_strength,\n",
        "    output_type=\"pil\",\n",
        "    decode_factor=0.15,\n",
        "    decode_factor_final=0.18215\n",
        "  )\n",
        "\n",
        "  # 現在の日本時間を取得\n",
        "  jst_now = datetime.datetime.now(datetime.timezone(datetime.timedelta(hours=9)))\n",
        "  #出力する画像の名前を生成する\n",
        "  file_name = (jst_now.strftime(file_format)+ \"_\" + str(valueSeed))\n",
        "  image_name = file_name + f\".png\"\n",
        "\n",
        "  #画像を保存する\n",
        "  save_location = os.path.join(save_path, image_name)\n",
        "  #@markdown **メタデータの書き込み**\n",
        "  save_metadata = True #@param {type: \"boolean\"}\n",
        "  if save_metadata:\n",
        "    metadata = PngInfo()\n",
        "    metadata.add_text(\"prompt\",(prompt))\n",
        "    metadata.add_text(\"negative\",(negative))\n",
        "    metadata.add_text(\"scheduler\",(scheduler))\n",
        "    metadata.add_text(\"steps\",(str(steps)))\n",
        "    metadata.add_text(\"CFG\",(str(CFG)))\n",
        "    metadata.add_text(\"width\",(str(img_width)))\n",
        "    metadata.add_text(\"height\",(str(img_height)))\n",
        "    metadata.add_text(\"seed\",str((valueSeed)))\n",
        "  if hires_fix:\n",
        "    metadata.add_text(\"upscaling ratio\",str((upscaling_ratio)))\n",
        "    metadata.add_text(\"up steps\",str((up_steps)))\n",
        "    metadata.add_text(\"denoising strength\",str((denoising_strength)))\n",
        "    image.save(save_location, pnginfo=metadata)\n",
        "\n",
        "  else:\n",
        "    image.save(save_location)\n",
        "\n",
        "# @markdown **ダウンロード済のフォルダの移動先フォルダを作る**\n",
        "end_downloading_dir = \"/content/drive/MyDrive/End-downloading\" # @param {type:\"string\"}\n",
        "os.makedirs(end_downloading_dir, exist_ok=True)\n",
        "\n",
        "# ファイル名を生成する\n",
        "file_name = save_path.split(\"/\")[-1]\n",
        "# フォルダをzip圧縮する\n",
        "shutil.make_archive(file_name, 'zip', save_path)\n",
        "print(file_name)\n",
        "\n",
        "# Zipをダウンロード\n",
        "files.download(f'/content/{file_name}.zip')\n",
        "\n",
        "# 終わったらフォルダをend_downloading_dirに場所に移動する\n",
        "shutil.move(os.path.join(\"/content/drive/MyDrive\", save_path), end_downloading_dir)\n"
      ]
    },
    {
      "cell_type": "code",
      "source": [
        "# @title 画像のメタデータを出力\n",
        "\n",
        "import sys\n",
        "from PIL import Image\n",
        "from PIL.PngImagePlugin import PngInfo\n",
        "\n",
        "#@markdown **保存した画像のパス**\n",
        "file_path = \"/content/drive/MyDrive/txt2img_output-20230708_013952/20230708_014048_825314091.png\" #@param {type: \"string\"}\n",
        "img = Image.open(file_path)\n",
        "\n",
        "print(\"Prompt: \",img.text[\"prompt\"])\n",
        "print(\"Negative Prompt: \",img.text[\"negative\"])\n",
        "print(\"Scheduler: \", img.text[\"scheduler\"])\n",
        "print(\"Steps: \",img.text[\"steps\"])\n",
        "print(\"CFG: \",img.text[\"CFG\"])\n",
        "print(\"Width: \",img.text[\"width\"])\n",
        "print(\"Height: \",img.text[\"height\"])\n",
        "print(\"Seed: \",img.text[\"seed\"])\n",
        "\n",
        "try:\n",
        "  print(\"Upscaling ratio; \",img.text[\"upscaling ratio\"])\n",
        "  print(\"Up steps: \",img.text[\"up steps\"])\n",
        "  print(\"Denoising strength: \",img.text[\"denoising strength\"])\n",
        "except:\n",
        "  print(\"Hires.fix was OFF.\")\n",
        "\n",
        "# %%writefile output.txt"
      ],
      "metadata": {
        "id": "0OIVx0EDv0Z7",
        "cellView": "form"
      },
      "execution_count": null,
      "outputs": []
    }
  ],
  "metadata": {
    "accelerator": "GPU",
    "colab": {
      "provenance": [],
      "include_colab_link": true
    },
    "kernelspec": {
      "display_name": "Python 3",
      "name": "python3"
    },
    "language_info": {
      "name": "python"
    },
    "widgets": {
      "application/vnd.jupyter.widget-state+json": {
        "df0c0bf583a84f379857bdfbb6bd90ce": {
          "model_module": "@jupyter-widgets/controls",
          "model_name": "HBoxModel",
          "model_module_version": "1.5.0",
          "state": {
            "_dom_classes": [],
            "_model_module": "@jupyter-widgets/controls",
            "_model_module_version": "1.5.0",
            "_model_name": "HBoxModel",
            "_view_count": null,
            "_view_module": "@jupyter-widgets/controls",
            "_view_module_version": "1.5.0",
            "_view_name": "HBoxView",
            "box_style": "",
            "children": [
              "IPY_MODEL_afaa359f5e5a4d9a91b55bbd28539353",
              "IPY_MODEL_a017912510ed4d51b6967c5bd358a479",
              "IPY_MODEL_532ba550629a4c738d2bb8b8ad01de71"
            ],
            "layout": "IPY_MODEL_bfecf8973bda4123a2caa93ec2d7902e"
          }
        },
        "afaa359f5e5a4d9a91b55bbd28539353": {
          "model_module": "@jupyter-widgets/controls",
          "model_name": "HTMLModel",
          "model_module_version": "1.5.0",
          "state": {
            "_dom_classes": [],
            "_model_module": "@jupyter-widgets/controls",
            "_model_module_version": "1.5.0",
            "_model_name": "HTMLModel",
            "_view_count": null,
            "_view_module": "@jupyter-widgets/controls",
            "_view_module_version": "1.5.0",
            "_view_name": "HTMLView",
            "description": "",
            "description_tooltip": null,
            "layout": "IPY_MODEL_6575ae919f73472fa4a4cdff6aa21b54",
            "placeholder": "​",
            "style": "IPY_MODEL_d325718a579946368a22326fcd57813c",
            "value": "100%"
          }
        },
        "a017912510ed4d51b6967c5bd358a479": {
          "model_module": "@jupyter-widgets/controls",
          "model_name": "FloatProgressModel",
          "model_module_version": "1.5.0",
          "state": {
            "_dom_classes": [],
            "_model_module": "@jupyter-widgets/controls",
            "_model_module_version": "1.5.0",
            "_model_name": "FloatProgressModel",
            "_view_count": null,
            "_view_module": "@jupyter-widgets/controls",
            "_view_module_version": "1.5.0",
            "_view_name": "ProgressView",
            "bar_style": "success",
            "description": "",
            "description_tooltip": null,
            "layout": "IPY_MODEL_8eb322ac30f44994ae1fe1bae4ab0544",
            "max": 40,
            "min": 0,
            "orientation": "horizontal",
            "style": "IPY_MODEL_1ed8f81affb34f07985ef726cce9caa0",
            "value": 40
          }
        },
        "532ba550629a4c738d2bb8b8ad01de71": {
          "model_module": "@jupyter-widgets/controls",
          "model_name": "HTMLModel",
          "model_module_version": "1.5.0",
          "state": {
            "_dom_classes": [],
            "_model_module": "@jupyter-widgets/controls",
            "_model_module_version": "1.5.0",
            "_model_name": "HTMLModel",
            "_view_count": null,
            "_view_module": "@jupyter-widgets/controls",
            "_view_module_version": "1.5.0",
            "_view_name": "HTMLView",
            "description": "",
            "description_tooltip": null,
            "layout": "IPY_MODEL_78741e2c214d4cd68c863932b4939ffc",
            "placeholder": "​",
            "style": "IPY_MODEL_73ae31be50cd48408ed32648c4617762",
            "value": " 40/40 [00:06&lt;00:00,  6.46it/s]"
          }
        },
        "bfecf8973bda4123a2caa93ec2d7902e": {
          "model_module": "@jupyter-widgets/base",
          "model_name": "LayoutModel",
          "model_module_version": "1.2.0",
          "state": {
            "_model_module": "@jupyter-widgets/base",
            "_model_module_version": "1.2.0",
            "_model_name": "LayoutModel",
            "_view_count": null,
            "_view_module": "@jupyter-widgets/base",
            "_view_module_version": "1.2.0",
            "_view_name": "LayoutView",
            "align_content": null,
            "align_items": null,
            "align_self": null,
            "border": null,
            "bottom": null,
            "display": null,
            "flex": null,
            "flex_flow": null,
            "grid_area": null,
            "grid_auto_columns": null,
            "grid_auto_flow": null,
            "grid_auto_rows": null,
            "grid_column": null,
            "grid_gap": null,
            "grid_row": null,
            "grid_template_areas": null,
            "grid_template_columns": null,
            "grid_template_rows": null,
            "height": null,
            "justify_content": null,
            "justify_items": null,
            "left": null,
            "margin": null,
            "max_height": null,
            "max_width": null,
            "min_height": null,
            "min_width": null,
            "object_fit": null,
            "object_position": null,
            "order": null,
            "overflow": null,
            "overflow_x": null,
            "overflow_y": null,
            "padding": null,
            "right": null,
            "top": null,
            "visibility": null,
            "width": null
          }
        },
        "6575ae919f73472fa4a4cdff6aa21b54": {
          "model_module": "@jupyter-widgets/base",
          "model_name": "LayoutModel",
          "model_module_version": "1.2.0",
          "state": {
            "_model_module": "@jupyter-widgets/base",
            "_model_module_version": "1.2.0",
            "_model_name": "LayoutModel",
            "_view_count": null,
            "_view_module": "@jupyter-widgets/base",
            "_view_module_version": "1.2.0",
            "_view_name": "LayoutView",
            "align_content": null,
            "align_items": null,
            "align_self": null,
            "border": null,
            "bottom": null,
            "display": null,
            "flex": null,
            "flex_flow": null,
            "grid_area": null,
            "grid_auto_columns": null,
            "grid_auto_flow": null,
            "grid_auto_rows": null,
            "grid_column": null,
            "grid_gap": null,
            "grid_row": null,
            "grid_template_areas": null,
            "grid_template_columns": null,
            "grid_template_rows": null,
            "height": null,
            "justify_content": null,
            "justify_items": null,
            "left": null,
            "margin": null,
            "max_height": null,
            "max_width": null,
            "min_height": null,
            "min_width": null,
            "object_fit": null,
            "object_position": null,
            "order": null,
            "overflow": null,
            "overflow_x": null,
            "overflow_y": null,
            "padding": null,
            "right": null,
            "top": null,
            "visibility": null,
            "width": null
          }
        },
        "d325718a579946368a22326fcd57813c": {
          "model_module": "@jupyter-widgets/controls",
          "model_name": "DescriptionStyleModel",
          "model_module_version": "1.5.0",
          "state": {
            "_model_module": "@jupyter-widgets/controls",
            "_model_module_version": "1.5.0",
            "_model_name": "DescriptionStyleModel",
            "_view_count": null,
            "_view_module": "@jupyter-widgets/base",
            "_view_module_version": "1.2.0",
            "_view_name": "StyleView",
            "description_width": ""
          }
        },
        "8eb322ac30f44994ae1fe1bae4ab0544": {
          "model_module": "@jupyter-widgets/base",
          "model_name": "LayoutModel",
          "model_module_version": "1.2.0",
          "state": {
            "_model_module": "@jupyter-widgets/base",
            "_model_module_version": "1.2.0",
            "_model_name": "LayoutModel",
            "_view_count": null,
            "_view_module": "@jupyter-widgets/base",
            "_view_module_version": "1.2.0",
            "_view_name": "LayoutView",
            "align_content": null,
            "align_items": null,
            "align_self": null,
            "border": null,
            "bottom": null,
            "display": null,
            "flex": null,
            "flex_flow": null,
            "grid_area": null,
            "grid_auto_columns": null,
            "grid_auto_flow": null,
            "grid_auto_rows": null,
            "grid_column": null,
            "grid_gap": null,
            "grid_row": null,
            "grid_template_areas": null,
            "grid_template_columns": null,
            "grid_template_rows": null,
            "height": null,
            "justify_content": null,
            "justify_items": null,
            "left": null,
            "margin": null,
            "max_height": null,
            "max_width": null,
            "min_height": null,
            "min_width": null,
            "object_fit": null,
            "object_position": null,
            "order": null,
            "overflow": null,
            "overflow_x": null,
            "overflow_y": null,
            "padding": null,
            "right": null,
            "top": null,
            "visibility": null,
            "width": null
          }
        },
        "1ed8f81affb34f07985ef726cce9caa0": {
          "model_module": "@jupyter-widgets/controls",
          "model_name": "ProgressStyleModel",
          "model_module_version": "1.5.0",
          "state": {
            "_model_module": "@jupyter-widgets/controls",
            "_model_module_version": "1.5.0",
            "_model_name": "ProgressStyleModel",
            "_view_count": null,
            "_view_module": "@jupyter-widgets/base",
            "_view_module_version": "1.2.0",
            "_view_name": "StyleView",
            "bar_color": null,
            "description_width": ""
          }
        },
        "78741e2c214d4cd68c863932b4939ffc": {
          "model_module": "@jupyter-widgets/base",
          "model_name": "LayoutModel",
          "model_module_version": "1.2.0",
          "state": {
            "_model_module": "@jupyter-widgets/base",
            "_model_module_version": "1.2.0",
            "_model_name": "LayoutModel",
            "_view_count": null,
            "_view_module": "@jupyter-widgets/base",
            "_view_module_version": "1.2.0",
            "_view_name": "LayoutView",
            "align_content": null,
            "align_items": null,
            "align_self": null,
            "border": null,
            "bottom": null,
            "display": null,
            "flex": null,
            "flex_flow": null,
            "grid_area": null,
            "grid_auto_columns": null,
            "grid_auto_flow": null,
            "grid_auto_rows": null,
            "grid_column": null,
            "grid_gap": null,
            "grid_row": null,
            "grid_template_areas": null,
            "grid_template_columns": null,
            "grid_template_rows": null,
            "height": null,
            "justify_content": null,
            "justify_items": null,
            "left": null,
            "margin": null,
            "max_height": null,
            "max_width": null,
            "min_height": null,
            "min_width": null,
            "object_fit": null,
            "object_position": null,
            "order": null,
            "overflow": null,
            "overflow_x": null,
            "overflow_y": null,
            "padding": null,
            "right": null,
            "top": null,
            "visibility": null,
            "width": null
          }
        },
        "73ae31be50cd48408ed32648c4617762": {
          "model_module": "@jupyter-widgets/controls",
          "model_name": "DescriptionStyleModel",
          "model_module_version": "1.5.0",
          "state": {
            "_model_module": "@jupyter-widgets/controls",
            "_model_module_version": "1.5.0",
            "_model_name": "DescriptionStyleModel",
            "_view_count": null,
            "_view_module": "@jupyter-widgets/base",
            "_view_module_version": "1.2.0",
            "_view_name": "StyleView",
            "description_width": ""
          }
        }
      }
    }
  },
  "nbformat": 4,
  "nbformat_minor": 0
}