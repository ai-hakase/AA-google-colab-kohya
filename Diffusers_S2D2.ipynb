{
  "cells": [
    {
      "cell_type": "markdown",
      "metadata": {
        "id": "view-in-github",
        "colab_type": "text"
      },
      "source": [
        "<a href=\"https://colab.research.google.com/github/koya-jp/AA-google-colab-kohya/blob/master/Diffusers_S2D2.ipynb\" target=\"_parent\"><img src=\"https://colab.research.google.com/assets/colab-badge.svg\" alt=\"Open In Colab\"/></a>"
      ]
    },
    {
      "cell_type": "markdown",
      "source": [
        "# **Diffusers ライブラリを用いて、画像を生成するスクリプト。**\n",
        "\n",
        "[Github](https://github.com/koya-jp/AA-google-colab-kohya/blob/master/Diffusers_S2D2.ipynb)"
      ],
      "metadata": {
        "id": "FDWXJo4TqbdN"
      }
    },
    {
      "cell_type": "code",
      "execution_count": 1,
      "metadata": {
        "id": "JE2OGdlsZZ4W",
        "colab": {
          "base_uri": "https://localhost:8080/"
        },
        "outputId": "e81d4b0d-3fc1-4b7a-b269-052f8527f66b"
      },
      "outputs": [
        {
          "output_type": "stream",
          "name": "stdout",
          "text": [
            "Mounted at /content/drive\n"
          ]
        }
      ],
      "source": [
        "#@title Driveに接続, ライブラリの追加 { display-mode: \"form\" }\n",
        "\n",
        "# Driveに接続\n",
        "from google.colab import drive\n",
        "drive.mount('/content/drive')\n",
        "\n",
        "# ライブラリの追加\n",
        "# !pip install diffusers==0.12.1\n",
        "# diffusers[torch] 以外の のインストール\n",
        "!pip install --upgrade diffusers==0.17.1 transformers accelerate scipy ftfy safetensors txt2img >/dev/null 2>&1\n",
        "!pip install k-diffusion >/dev/null 2>&1\n"
      ]
    },
    {
      "cell_type": "code",
      "source": [
        "#@title 「S2D2」のリポジトリを複製し、起動するのに必要な要件をインストール { display-mode: \"form\" }\n",
        "\n",
        "%cd /content\n",
        "!git clone https://github.com/keisuke-okb/S2D2\n",
        "\n",
        "%cd ./S2D2\n",
        "!git pull\n",
        "!touch __init__.py\n",
        "!pip install -r requirements.txt >/dev/null 2>&1\n"
      ],
      "metadata": {
        "colab": {
          "base_uri": "https://localhost:8080/"
        },
        "id": "aYM1Dv3QeR08",
        "outputId": "395a968d-3096-425f-b4e0-bf09e21abe83"
      },
      "execution_count": 2,
      "outputs": [
        {
          "output_type": "stream",
          "name": "stdout",
          "text": [
            "/content\n",
            "Cloning into 'S2D2'...\n",
            "remote: Enumerating objects: 70, done.\u001b[K\n",
            "remote: Counting objects: 100% (41/41), done.\u001b[K\n",
            "remote: Compressing objects: 100% (24/24), done.\u001b[K\n",
            "remote: Total 70 (delta 37), reused 17 (delta 17), pack-reused 29\u001b[K\n",
            "Unpacking objects: 100% (70/70), 23.95 KiB | 1.20 MiB/s, done.\n",
            "/content/S2D2\n",
            "Already up to date.\n"
          ]
        }
      ]
    },
    {
      "cell_type": "code",
      "source": [
        "#@title S2D2の準備、embeddingsを読み込む関数「load_embeddings」の定義 { display-mode: \"form\" }\n",
        "\n",
        "import s2d2\n",
        "import os\n",
        "import random\n",
        "import datetime\n",
        "import torch\n",
        "from PIL import Image\n",
        "\n",
        "import diffusers\n",
        "from diffusers import (StableDiffusionPipeline,StableDiffusionImg2ImgPipeline)\n",
        "from diffusers.utils import numpy_to_pil\n",
        "from diffusers.pipelines.stable_diffusion import StableDiffusionPipelineOutput\n",
        "\n",
        "class StableDiffusionImageGeneratorMod(s2d2.StableDiffusionImageGenerator):\n",
        "  def __init__(self, sd_safetensor_path: str, device: str=\"cuda\", dtype: torch.dtype=torch.float16):\n",
        "    self.device = torch.device(device)\n",
        "    self.pipe = StableDiffusionPipeline.from_pretrained(\n",
        "      sd_safetensor_path,\n",
        "      torch_dtype=dtype,\n",
        "      custom_pipeline=\"lpw_stable_diffusion\"\n",
        "    ).to(device)\n",
        "    self.pipe_i2i = StableDiffusionImg2ImgPipeline.from_pretrained(\n",
        "      sd_safetensor_path,\n",
        "      torch_dtype=dtype,\n",
        "      custom_pipeline=\"lpw_stable_diffusion\"\n",
        "    ).to(device)\n",
        "    self.pipe.safety_checker = None\n",
        "    self.pipe_i2i.safety_checker = None\n",
        "    return\n",
        "\n",
        "  def load_embeddings(self, safetensors_path: str, fileName: str, token: str):\n",
        "    if token != \"\":\n",
        "      self.pipe.load_textual_inversion(safetensors_path, weight_name=fileName, token=token)\n",
        "      self.pipe_i2i.load_textual_inversion(safetensors_path, weight_name=fileName, token=token)\n",
        "    else:\n",
        "      self.pipe.load_textual_inversion(safetensors_path, weight_name=fileName)\n",
        "      self.pipe_i2i.load_textual_inversion(safetensors_path, weight_name=fileName)\n",
        "    return\n",
        "\n",
        "  %cd /content/"
      ],
      "metadata": {
        "id": "f1A_NB1peg33"
      },
      "execution_count": 3,
      "outputs": []
    },
    {
      "cell_type": "code",
      "source": [
        "# @title Model、LoRA の読み込み　 { display-mode: \"form\" }\n",
        "\n",
        "#モデル\n",
        "model_path = \"/content/drive/MyDrive/StableDiffusion/Model/chilledremix\" #@param {type:\"string\"}\n",
        "\n",
        "generator = StableDiffusionImageGeneratorMod(\n",
        "  model_path,\n",
        "  device=\"cuda\",\n",
        ")\n",
        "\n",
        "LoRA_USE = True #@param {type:\"boolean\"}\n",
        "if LoRA_USE == True:\n",
        "  LoRA=\"/content/drive/MyDrive/StableDiffusion/Lora/flat2.safetensors\" #@param {type:\"string\"}\n",
        "  LoRA_alpha = -1.0 #@param {type:\"number\"}\n",
        "  generator.load_lora(LoRA, alpha=LoRA_alpha)\n",
        "\n",
        "LoRA_USE_2= False #@param {type:\"boolean\"}\n",
        "if LoRA_USE_2== True:\n",
        "  LoRA_2=\"\" #@param {type:\"string\"}\n",
        "  LoRA_alpha_2 = 1.0 #@param {type:\"number\"}\n",
        "  generator.load_lora(LoRA_2, alpha=LoRA_alpha_2)\n"
      ],
      "metadata": {
        "colab": {
          "base_uri": "https://localhost:8080/"
        },
        "id": "PWoW_04veO4o",
        "outputId": "230bcf74-dd7b-44d0-df94-f572ac9c0c43"
      },
      "execution_count": 10,
      "outputs": [
        {
          "output_type": "stream",
          "name": "stdout",
          "text": [
            "/content\n"
          ]
        },
        {
          "output_type": "stream",
          "name": "stderr",
          "text": [
            "/usr/local/lib/python3.10/dist-packages/huggingface_hub/file_download.py:649: FutureWarning: 'cached_download' is the legacy way to download files from the HF hub, please consider upgrading to 'hf_hub_download'\n",
            "  warnings.warn(\n"
          ]
        }
      ]
    },
    {
      "cell_type": "code",
      "source": [
        "# @title Embeddings を設定。\n",
        "\n",
        "#@markdown **Embeddings 1**\n",
        "embeddings_USE = True #@param {type:\"boolean\"}\n",
        "if embeddings_USE == True:\n",
        "  safetensors_path = \"/content/drive/MyDrive/StableDiffusion/embeddings/EasyNegative.safetensors\" #@param {type:\"string\"}\n",
        "  file_name = \"EasyNegative.safetensors\" #@param {type:\"string\"}\n",
        "  #@markdown ***トリガーワード（EasyNegativeなど）***\n",
        "  token = \"EasyNegative\" #@param {type:\"string\"}\n",
        "  generator.load_embeddings(safetensors_path, file_name, token)\n",
        "\n",
        "#@markdown **Embeddings 2**\n",
        "embeddings_USE_2 = False #@param {type:\"boolean\"}\n",
        "if embeddings_USE_2 == True:\n",
        "  safetensors_path_2 = \"/content/drive/MyDrive/…\" #@param {type:\"string\"}\n",
        "  file_name_2 = \"AS-YoungV2.pt\" #@param {type:\"string\"}\n",
        "  token_2 = \"AS-YoungV2\" #@param {type:\"string\"}\n",
        "  generator.load_embeddings(safetensors_path_2, file_name_2, token_2)\n",
        "\n",
        "#@markdown **Embeddings 3**\n",
        "embeddings_USE = False #@param {type:\"boolean\"}\n",
        "if embeddings_USE == True:\n",
        "  safetensors_path_3 = \"/content/drive/MyDrive/…\" #@param {type:\"string\"}\n",
        "  file_name_3 = \"\" #@param {type:\"string\"}\n",
        "  token_3 = \"\" #@param {type:\"string\"}\n",
        "  generator.load_embeddings(safetensors_path_3, file_name_3, token_3)"
      ],
      "metadata": {
        "cellView": "form",
        "id": "zzVpQ1OEtOkz"
      },
      "execution_count": 11,
      "outputs": []
    },
    {
      "cell_type": "code",
      "execution_count": null,
      "metadata": {
        "id": "WbyLfEFDYlcA",
        "collapsed": true,
        "cellView": "form"
      },
      "outputs": [],
      "source": [
        "# @title 画像を生成  （content/drive/MyDrive/txt2img_output-タイムスタンプ に保存。）\n",
        "\n",
        "# 必要なモジュールやライブラリをインポートする\n",
        "import os\n",
        "import shutil\n",
        "from google.colab import files\n",
        "from PIL.PngImagePlugin import PngInfo\n",
        "\n",
        "# ファイル名に使う日付と時刻のフォーマットを定義する\n",
        "file_format = \"%Y%m%d_%H%M%S\"\n",
        "i=0\n",
        "\n",
        "# 現在の日本時間を取得\n",
        "jst_now = datetime.datetime.now(datetime.timezone(datetime.timedelta(hours=9)))\n",
        "#txt2img出力画像の保存先\n",
        "#@markdown 出力画像を保存するフォルダ\n",
        "save_path = f\"/content/drive/MyDrive/txt2img_output-{jst_now.strftime(file_format)}\"\n",
        "os.makedirs(save_path, exist_ok=True)\n",
        "\n",
        "\n",
        "#@markdown ポジティブプロンプト\n",
        "prompt = \"Beautiful girl in micro bikini,(masterpiece),((super detailed)),(expressionless)), realistic8K UHD,(best quality:1. 2), high definition, exquisite details, fine texture, high detail, fine beautiful delicate eyes, perfectly proportioned face, light particles, distinct_ image, high resolution, high quality textures and shadows, realistic and beautiful face with big eyes, blush, glossy lips and perfect proportions, depth of field, lens flare, ray tracing, perspective, prominent nose, slender face, perfectly toned body, (thin waist:1. 3), medium chest, (glossy (glossy skin), (pureerosface_v1:0.5), (ulzzang-6500-v1.1:0.5), (sweat is visible on her body due to her strenuous exercise, her clothes are soaked and see through: 1. 2)), braun short hair, sitting, (spreading legs:1.5)), ((low angle,camel toes)), (exposed bikini:1.4)BREAK (smiling, embarrassed), nsfw ,in pool\" #@param {type:\"string\"}\n",
        "#@markdown ネガティブプロンプト\n",
        "negative = \"EasyNegative, painting, sketch, (worst picture quality:2), (low quality:2), (normal quality:2), bad feet, lowres, ((monochrome)), skin blemishes, acne, skin blemishes, bad anatomy, bad hands, text, error, missing fingers, extra fingers, few digits, crop, worst picture quality, jpeg image, signature, watermark, Username, blurred, bad feet, (mutation, deformity:1. 3), extra limbs, fused fingers, long neck, crossed eyes, very low resolution, bad proportions,(ng_deepnegative_v1_75t),(negative_hand-neg)\" #@param {type:\"string\"}\n",
        "#@markdown スケジューラ(サンプラー)\n",
        "scheduler=\"dpm++_2m_karras\" #@param [\"unipc\",\"euler_a\",\"euler\",\"ddim\",\"ddpm\",\"deis\",\"dpm2\",\"dpm++_2s\",\"dpm++_2m\",\"dpm++_2m_karras\",\"dpm++_sde\",\"dpm++_sde_karras\",\"heun\",\"heun_karras\",\"lms\",\"lms_karras\",\"pndm\",\"dpm++_2m_karras\"]\n",
        "#@markdown ステップ数\n",
        "steps = 20 #@param {type:\"integer\"}\n",
        "#@markdown CFG\n",
        "CFG = 7 #@param {type: \"number\"}\n",
        "#@markdown 画像サイズ\n",
        "img_width = \"512\" # @param [512, 768, 1024, 1536]\n",
        "img_height = \"768\" # @param [512, 768, 1024, 1536]\n",
        "#@markdown シード（-1の時はランダム）\n",
        "seed = -1 #@param {type: \"integer\"}\n",
        "if seed is None or seed == -1:\n",
        "  inputSeed = random.randint(0, 2147483647)\n",
        "else:\n",
        "  valueSeed = seed\n",
        "\n",
        "#@markdown Hires.fix の有効化\n",
        "hires_fix = True #@param {type: \"boolean\"}\n",
        "enhance_steps = 2 if hires_fix else 1\n",
        "#@markdown 解像度倍率(乗算後、最も近い8の倍数のサイズとなる)\n",
        "upscaling_ratio = 2 #@param {type: \"number\"}\n",
        "#@markdown アップスケールステップ数\n",
        "up_steps = 20 #@param {type: \"integer\"}\n",
        "#@markdown denoising strength（小さいほど元画像を尊重） （0.5～0.7）が推奨\n",
        "denoising_strength = 0.60 #@param {type: \"number\"}\n",
        "#@markdown 出力枚数\n",
        "batch_count = 1 #@param {type: \"integer\"}\n",
        "\n",
        "\n",
        "for i in range(batch_count):\n",
        "  if seed is None or seed == -1:valueSeed = inputSeed + i\n",
        "  image = generator.diffusion_enhance(\n",
        "    prompt,\n",
        "    negative,\n",
        "    scheduler_name=scheduler,\n",
        "    num_inference_steps=steps,\n",
        "    num_inference_steps_enhance=up_steps,\n",
        "    guidance_scale=CFG,\n",
        "    width=img_width,\n",
        "    height=img_height,\n",
        "    seed=valueSeed,\n",
        "    upscale_target=\"latent\",\n",
        "    interpolate_mode=\"bicubic\",\n",
        "    antialias=True,\n",
        "    upscale_by=upscaling_ratio,\n",
        "    enhance_steps=enhance_steps,\n",
        "    denoising_strength=denoising_strength,\n",
        "    output_type=\"pil\",\n",
        "    decode_factor=0.15,\n",
        "    decode_factor_final=0.18215\n",
        "  )\n",
        "\n",
        "  # 現在の日本時間を取得\n",
        "  jst_now = datetime.datetime.now(datetime.timezone(datetime.timedelta(hours=9)))\n",
        "  #出力する画像の名前を生成する\n",
        "  file_name = (jst_now.strftime(file_format)+ \"_\" + str(valueSeed))\n",
        "  image_name = file_name + f\".png\"\n",
        "\n",
        "  #画像を保存する\n",
        "  save_location = os.path.join(save_path, image_name)\n",
        "  #@markdown **メタデータの書き込み**\n",
        "  save_metadata = True #@param {type: \"boolean\"}\n",
        "  if save_metadata:\n",
        "    metadata = PngInfo()\n",
        "    metadata.add_text(\"prompt\",(prompt))\n",
        "    metadata.add_text(\"negative\",(negative))\n",
        "    metadata.add_text(\"scheduler\",(scheduler))\n",
        "    metadata.add_text(\"steps\",(str(steps)))\n",
        "    metadata.add_text(\"CFG\",(str(CFG)))\n",
        "    metadata.add_text(\"width\",(str(img_width)))\n",
        "    metadata.add_text(\"height\",(str(img_height)))\n",
        "    metadata.add_text(\"seed\",str((valueSeed)))\n",
        "  if hires_fix:\n",
        "    metadata.add_text(\"upscaling ratio\",str((upscaling_ratio)))\n",
        "    metadata.add_text(\"up steps\",str((up_steps)))\n",
        "    metadata.add_text(\"denoising strength\",str((denoising_strength)))\n",
        "    image.save(save_location, pnginfo=metadata)\n",
        "\n",
        "  else:\n",
        "    image.save(save_location)\n",
        "\n",
        "# @markdown **ダウンロード済のフォルダの移動先フォルダを作る**\n",
        "end_downloading_dir = \"/content/drive/MyDrive/End-downloading\" # @param {type:\"string\"}\n",
        "os.makedirs(end_downloading_dir, exist_ok=True)\n",
        "\n",
        "# ファイル名を生成する\n",
        "file_name = save_path.split(\"/\")[-1]\n",
        "# フォルダをzip圧縮する\n",
        "shutil.make_archive(file_name, 'zip', save_path)\n",
        "print(file_name)\n",
        "\n",
        "# Zipをダウンロード\n",
        "files.download(f'/content/{file_name}.zip')\n",
        "\n",
        "# 終わったらフォルダをend_downloading_dirに場所に移動する\n",
        "shutil.move(os.path.join(\"/content/drive/MyDrive\", save_path), end_downloading_dir)\n"
      ]
    },
    {
      "cell_type": "code",
      "source": [
        "# @title 画像のメタデータを出力\n",
        "\n",
        "import sys\n",
        "from PIL import Image\n",
        "from PIL.PngImagePlugin import PngInfo\n",
        "\n",
        "#@markdown **保存した画像のパス**\n",
        "file_path = \"/content/drive/MyDrive/txt2img_output-20230708_013952/20230708_014048_825314091.png\" #@param {type: \"string\"}\n",
        "img = Image.open(file_path)\n",
        "\n",
        "print(\"Prompt: \",img.text[\"prompt\"])\n",
        "print(\"Negative Prompt: \",img.text[\"negative\"])\n",
        "print(\"Scheduler: \", img.text[\"scheduler\"])\n",
        "print(\"Steps: \",img.text[\"steps\"])\n",
        "print(\"CFG: \",img.text[\"CFG\"])\n",
        "print(\"Width: \",img.text[\"width\"])\n",
        "print(\"Height: \",img.text[\"height\"])\n",
        "print(\"Seed: \",img.text[\"seed\"])\n",
        "\n",
        "try:\n",
        "  print(\"Upscaling ratio; \",img.text[\"upscaling ratio\"])\n",
        "  print(\"Up steps: \",img.text[\"up steps\"])\n",
        "  print(\"Denoising strength: \",img.text[\"denoising strength\"])\n",
        "except:\n",
        "  print(\"Hires.fix was OFF.\")\n",
        "\n",
        "# %%writefile output.txt"
      ],
      "metadata": {
        "colab": {
          "base_uri": "https://localhost:8080/"
        },
        "cellView": "form",
        "id": "0OIVx0EDv0Z7",
        "outputId": "dd8c6005-28ef-4471-f34d-d36ae9d7b0fa"
      },
      "execution_count": 18,
      "outputs": [
        {
          "output_type": "stream",
          "name": "stdout",
          "text": [
            "Prompt:  Beautiful girl in micro bikini,(masterpiece),((super detailed)),(expressionless)), realistic8K UHD,(best quality:1. 2), high definition, exquisite details, fine texture, high detail, fine beautiful delicate eyes, perfectly proportioned face, light particles, distinct_ image, high resolution, high quality textures and shadows, realistic and beautiful face with big eyes, blush, glossy lips and perfect proportions, depth of field, lens flare, ray tracing, perspective, prominent nose, slender face, perfectly toned body, (thin waist:1. 3), medium chest, (glossy (glossy skin), (pureerosface_v1:0.5), (ulzzang-6500-v1.1:0.5), (sweat is visible on her body due to her strenuous exercise, her clothes are soaked and see through: 1. 2)), braun short hair, sitting, (spreading legs:1.5)), ((low angle,camel toes)), (exposed bikini:1.4)BREAK (smiling, embarrassed), nsfw ,in pool\n",
            "Negative Prompt:  EasyNegative, painting, sketch, (worst picture quality:2), (low quality:2), (normal quality:2), bad feet, lowres, ((monochrome)), skin blemishes, acne, skin blemishes, bad anatomy, bad hands, text, error, missing fingers, extra fingers, few digits, crop, worst picture quality, jpeg image, signature, watermark, Username, blurred, bad feet, (mutation, deformity:1. 3), extra limbs, fused fingers, long neck, crossed eyes, very low resolution, bad proportions,(ng_deepnegative_v1_75t),(negative_hand-neg)\n",
            "Scheduler:  dpm++_2m_karras\n",
            "Steps:  20\n",
            "CFG:  7\n",
            "Width:  512\n",
            "Height:  768\n",
            "Seed:  825314091\n",
            "Upscaling ratio;  2\n",
            "Up steps:  20\n",
            "Denoising strength:  0.6\n"
          ]
        }
      ]
    }
  ],
  "metadata": {
    "accelerator": "GPU",
    "colab": {
      "provenance": [],
      "include_colab_link": true
    },
    "kernelspec": {
      "display_name": "Python 3",
      "name": "python3"
    },
    "language_info": {
      "name": "python"
    }
  },
  "nbformat": 4,
  "nbformat_minor": 0
}