{
 "cells": [
  {
   "cell_type": "markdown",
   "metadata": {
    "id": "D4U-zSJ0PesD"
   },
   "source": [
    "[![Open in SageMaker Studio Lab](https://studiolab.sagemaker.aws/studiolab.svg)](https://studiolab.sagemaker.aws/import/github/koya-jp/AA-google-colab-kohya/blob/master/comfyui_sagemaker_run.ipynb)"
   ]
  },
  {
   "cell_type": "markdown",
   "metadata": {
    "id": "yXG2Yh52PesJ",
    "tags": []
   },
   "source": [
    "#### ***初期設定***"
   ]
  },
  {
   "cell_type": "code",
   "execution_count": null,
   "metadata": {
    "id": "69ORtIDdPesL"
   },
   "outputs": [],
   "source": [
    "# 環境の準備　（ターミナルで実行）\n",
    "\n",
    "# 新しい環境を作る\n",
    "conda create -y --name sd_env python=3.10.6\n",
    "conda activate sd_env\n",
    "conda install -y ipykernel\n",
    "\n",
    "# 環境をリセット（削除）\n",
    "conda activate sd_env\n",
    "conda deactivate\n",
    "conda remove -y -n sd_env --all"
   ]
  },
  {
   "cell_type": "markdown",
   "metadata": {
    "id": "yXG2Yh52PesJ",
    "tags": []
   },
   "source": [
    "#### ***ComfyUIをインストール***"
   ]
  },
  {
   "cell_type": "code",
   "execution_count": null,
   "metadata": {
    "id": "AW38z7jHPesN",
    "tags": []
   },
   "outputs": [],
   "source": [
    "!python -V\n",
    "%cd ~\n",
    "WORKSPACE = \"/home/studio-lab-user/comfyui\"\n",
    "\n",
    "# パッケージのインストール\n",
    "%conda install -y aria2\n",
    "!pip install xformers==0.0.20 triton==2.0.0 -U\n",
    "!pip install mediapipe==0.9.1.0 addict yapf fvcore omegaconf\n",
    "\n",
    "# リポジトリをクローン （コミットハッシュ → 6d3dee9d16254979592b95399835a54428b3cea6）\n",
    "# WORKSPACE が存在すれば処理をスキップする。\n",
    "![ ! -d $WORKSPACE ] && echo -= Initial setup ComfyUI =- && git clone https://github.com/comfyanonymous/ComfyUI $WORKSPACE\n",
    "%cd $WORKSPACE\n",
    "\n",
    "# ComfyUI をアップデートする\n",
    "# !git pull\n",
    "\n",
    "# 依存関係をインストール\n",
    "!pip install -r requirements.txt\n",
    "\n",
    "# custom node のインストール\n",
    "CUSTOM_NODE_DIR = WORKSPACE + \"/custom_nodes\"\n",
    "!git clone -b v1.5 https://github.com/camenduru/comfy_controlnet_preprocessors {CUSTOM_NODE_DIR}/comfy_controlnet_preprocessors\n",
    "!git clone https://github.com/ltdrdata/ComfyUI-Manager {CUSTOM_NODE_DIR}/ComfyUI-Manager\n",
    "!git clone https://github.com/space-nuko/ComfyUI-OpenPose-Editor {CUSTOM_NODE_DIR}/ComfyUI-OpenPose-Editor\n",
    "!git clone https://github.com/LucianoCirino/efficiency-nodes-comfyui {CUSTOM_NODE_DIR}/efficiency-nodes-comfyui\n",
    "!git clone https://github.com/pythongosssss/ComfyUI-Custom-Scripts {CUSTOM_NODE_DIR}/ComfyUI-Custom-Scripts\n",
    "!git clone https://github.com/ssitu/ComfyUI_NestedNodeBuilder {CUSTOM_NODE_DIR}/ComfyUI_NestedNodeBuilder\n",
    "!git clone https://github.com/ltdrdata/ComfyUI-Impact-Pack {CUSTOM_NODE_DIR}/ComfyUI-Impact-Pack\n",
    "!git clone https://github.com/twri/sdxl_prompt_styler {CUSTOM_NODE_DIR}/sdxl_prompt_styler\n",
    "!git clone https://github.com/RockOfFire/ComfyUI_Comfyroll_CustomNodes {CUSTOM_NODE_DIR}/ComfyUI_Comfyroll_CustomNodes\n",
    "!git clone https://github.com/rgthree/rgthree-comfy {CUSTOM_NODE_DIR}/rgthree-comfy\n",
    "!git clone https://github.com/failfa-st/failfast-comfyui-extensions {CUSTOM_NODE_DIR}/failfast-comfyui-extensions\n",
    "!git clone https://github.com/WASasquatch/was-node-suite-comfyui {CUSTOM_NODE_DIR}/was-node-suite-comfyui\n",
    "\n",
    "# custom node のセットアップ\n",
    "\n",
    "# comfy_controlnet_preprocessors\n",
    "%cd {CUSTOM_NODE_DIR}/comfy_controlnet_preprocessors\n",
    "!python install.py --no_download_ckpts\n",
    "\n",
    "# ComfyUI-Impact-Pack（Adetailler）\n",
    "%cd {CUSTOM_NODE_DIR}/ComfyUI-Impact-Pack\n",
    "!git submodule update --init --recursive\n",
    "!python install.py\n",
    "# !sed -i -e \"s/dependency_version = 9/dependency_version = 2/\" {CUSTOM_NODE_DIR}/ComfyUI-Impact-Pack/impact-pack.ini\n",
    "!sed -i -e \"s/mmdet_skip = True/mmdet_skip = False/\" {CUSTOM_NODE_DIR}/ComfyUI-Impact-Pack/impact-pack.ini\n",
    "\n",
    "# ComfyUI-OpenPose-Editor/js\n",
    "!sed -i -e \"s/const height = 1000/const height = 600/\" {CUSTOM_NODE_DIR}/ComfyUI-OpenPose-Editor/js/openpose.js\n",
    "\n",
    "# was-node-suite-comfyui\n",
    "!pip install -r {CUSTOM_NODE_DIR}/was-node-suite-comfyui/requirements.txt\n",
    "\n",
    "# 空き容量を表示\n",
    "!df -h"
   ]
  },
  {
   "cell_type": "markdown",
   "metadata": {
    "id": "yXG2Yh52PesJ",
    "tags": []
   },
   "source": [
    "#### ***Checkpointをインストール***"
   ]
  },
  {
   "cell_type": "code",
   "execution_count": null,
   "metadata": {
    "tags": []
   },
   "outputs": [],
   "source": [
    "#@markdown ##***SDXL ***\n",
    "WORKSPACE = \"/home/studio-lab-user/comfyui\"\n",
    "LODE_MODE = \"aria2c --console-log-level=error -c -x 16 -s 16 -k 1M\"\n",
    "\n",
    "%cd $WORKSPACE\n",
    "!rm -rf /home/studio-lab-user/.cache # キャッシュの削除\n",
    "\n",
    "# base\n",
    "!rm -fr {WORKSPACE}/models/checkpoints/*\n",
    "!{LODE_MODE} https://civitai.com/api/download/models/164360 -d {WORKSPACE}/models/checkpoints -o BreakDomainXL-v05g.safetensors\n",
    "# !{LODE_MODE} https://civitai.com/api/download/models/141958 -d {WORKSPACE}/models/checkpoints -o BreakDomainXL-v02g.safetensors\n",
    "# !{LODE_MODE} https://civitai.com/api/download/models/134557 -d {WORKSPACE}/models/checkpoints -o counterfeitxl.safetensors\n",
    "\n",
    "# refiner\n",
    "REFINER_URL = \"https://huggingface.co/stabilityai/stable-diffusion-xl-refiner-1.0/resolve/main/sd_xl_refiner_1.0.safetensors\" #@param {type:\"string\"}\n",
    "!{LODE_MODE} {REFINER_URL} -d {WORKSPACE}/models/checkpoints -o sd_xl_refiner_1.0.safetensors\n",
    "\n",
    "# vae\n",
    "VAE_URL = \"https://huggingface.co/ckpt/sdxl_vae/resolve/main/sdxl_vae.safetensors\"\n",
    "!{LODE_MODE} {VAE_URL} -d {WORKSPACE}/models/vae -o sdxl_vae.vae.safetensors\n",
    "\n",
    "# embedding\n",
    "!rm {WORKSPACE}/models/embeddings/put_embeddings_or_textual_inversion_concepts_here\n",
    "!{LODE_MODE} https://civitai.com/api/download/models/134583 -d {WORKSPACE}/models/embeddings -o negativeXL_D.safetensors # 露出度のネガティブ 0.5 ~ 0.7 くらいで普通。\n",
    "!{LODE_MODE} https://civitai.com/api/download/models/139645 -d {WORKSPACE}/models/embeddings -o peopleneg.safetensors # 人間のネガティブな特徴を学習。実写用\n",
    "# !{LODE_MODE} https://civitai.com/api/download/models/133283 -d {WORKSPACE}/models/embeddings -o bad-X.pt # 手などの突然変異防止\n",
    "# !{LODE_MODE} https://civitai.com/api/download/models/128882 -d {WORKSPACE}/models/embeddings -o SimplepositiveXLv1.safetensors # Simpleなポジティブ要素\n",
    "\n",
    "# lora\n",
    "!{LODE_MODE} https://civitai.com/api/download/models/137124 -d {WORKSPACE}/models/loras -o DreamART-Style.safetensors\n",
    "!{LODE_MODE} https://civitai.com/api/download/models/135867 -d {WORKSPACE}/models/loras -o detail-tweaker-xl.safetensors\n",
    "# !{LODE_MODE} https://civitai.com/api/download/models/121538 -d {WORKSPACE}/models/loras -o watercolor-style.safetensors\n",
    "# !{LODE_MODE} https://civitai.com/api/download/models/136749 -d {WORKSPACE}/models/loras -o ChibiStyleXL.safetensors\n",
    "# !{LODE_MODE} https://civitai.com/api/download/models/138938 -d {WORKSPACE}/models/loras -o Linear-Manga-Style.safetensors\n",
    "# !{LODE_MODE} https://civitai.com/api/download/models/127510 -d {WORKSPACE}/models/loras -o greg_rutkowski_xl_2.safetensors\n",
    "# !{LODE_MODE} https://civitai.com/api/download/models/118427 -d {WORKSPACE}/models/loras -o perfect-eyes-xl.safetensors\n",
    "\n",
    "# controlnet\n",
    "# !{LODE_MODE} https://huggingface.co/thibaud/controlnet-openpose-sdxl-1.0/resolve/main/OpenPoseXL2.safetensors -d {WORKSPACE}/models/controlnet -o OpenPoseXL2.safetensors\n",
    "!{LODE_MODE} https://huggingface.co/ckpt/controlnet-sdxl-1.0/resolve/main/control-lora-canny-rank256.safetensors -d {WORKSPACE}/models/controlnet -o control-lora-canny-rank256.safetensors\n",
    "# !{LODE_MODE} https://huggingface.co/ckpt/controlnet-sdxl-1.0/resolve/main/control-lora-depth-rank256.safetensors -d {WORKSPACE}/models/controlnet -o control-lora-depth-rank256.safetensors\n",
    "# !{LODE_MODE} https://huggingface.co/ckpt/controlnet-sdxl-1.0/resolve/main/control-lora-recolor-rank256.safetensors -d {WORKSPACE}/models/controlnet -o control-lora-recolor-rank256.safetensors\n",
    "# !{LODE_MODE} https://huggingface.co/ckpt/controlnet-sdxl-1.0/resolve/main/control-lora-sketch-rank256.safetensors -d {WORKSPACE}/models/controlnet -o control-lora-sketch-rank256.safetensors\n",
    "\n",
    "# 確認\n",
    "%cd {WORKSPACE}/models/\n",
    "!ls -la checkpoints vae upscale_models embeddings loras controlnet\n",
    "\n",
    "# 空き容量を表示\n",
    "!df -h"
   ]
  },
  {
   "cell_type": "markdown",
   "metadata": {
    "id": "RUMktDrzPesV",
    "tags": []
   },
   "source": [
    "#### ***画像生成 の結果をZipにする***"
   ]
  },
  {
   "cell_type": "code",
   "execution_count": null,
   "metadata": {
    "tags": []
   },
   "outputs": [],
   "source": [
    "import os\n",
    "import glob\n",
    "import datetime\n",
    "import zipfile\n",
    "import shutil\n",
    "\n",
    "# 今日日付を取得\n",
    "today = datetime.datetime.now().strftime(\"%Y%m%d_%H%M%S\")\n",
    "# 画像のパス\n",
    "img_path = f\"/home/studio-lab-user/comfyui/output\"\n",
    "# ZIPファイルのパス\n",
    "zip_path = f\"/home/studio-lab-user/outputs_{today}.zip\"\n",
    "# 不要なフォルダのパス\n",
    "delete_path = f\"/home/studio-lab-user/Delete/{today}\"\n",
    "\n",
    "\n",
    "# ZIPファイルに圧縮する関数\n",
    "def zip_files(img_path, zip_path):\n",
    "    with zipfile.ZipFile(zip_path, \"w\", zipfile.ZIP_DEFLATED) as zf:\n",
    "        # サブフォルダとファイルの全てのパスを取得\n",
    "        for root, dirs, files in os.walk(img_path):\n",
    "            for file in files:\n",
    "                # ZIPファイルに書き込むパスを相対パスにする\n",
    "                rel_path = os.path.relpath(os.path.join(root, file), img_path)\n",
    "                # ZIPファイルに書き込む\n",
    "                zf.write(os.path.join(root, file), rel_path)\n",
    "\n",
    "\n",
    "# 画像のパスとZIPファイルのパスのペアごとに圧縮と移動を行う関数\n",
    "def zip_and_move(img_path, zip_path, delete_path):\n",
    "    # 画像のパスに何もフォルダやファイルがなければスキップする\n",
    "    if len(os.listdir(img_path)) == 0:\n",
    "        return\n",
    "    \n",
    "    # Zipにする\n",
    "    zip_files(img_path, zip_path)\n",
    "    \n",
    "    # 移動先のディレクトリがなければ作成する\n",
    "    if not os.path.exists(delete_path):\n",
    "        os.makedirs(delete_path)\n",
    "\n",
    "    # ワイルドカードにマッチするパスのリストを取得\n",
    "    move_list = glob.glob(img_path)\n",
    "\n",
    "    # 移動を実行\n",
    "    for file in move_list:\n",
    "        shutil.move(file, delete_path)\n",
    "\n",
    "        \n",
    "# 画像のパスとZIPファイルのパスのペアごとに圧縮と移動を行う\n",
    "zip_and_move(img_path, zip_path, delete_path)"
   ]
  },
  {
   "cell_type": "markdown",
   "metadata": {
    "id": "RUMktDrzPesV",
    "tags": []
   },
   "source": [
    "#### ***⭐ 実行 ----------------------------------------------------------------------------***"
   ]
  },
  {
   "cell_type": "code",
   "execution_count": null,
   "metadata": {
    "id": "FsTN3ACUPesV",
    "tags": []
   },
   "outputs": [],
   "source": [
    "# embeddingsの入力例を表示\n",
    "import re, os\n",
    "files = os.listdir('/home/studio-lab-user/comfyui/models/embeddings')\n",
    "for file in files:\n",
    "    file = re.sub('\\\\.(pt|safetensors)$', '', file)\n",
    "    print('(embedding:{}:0.9)'.format(file))\n",
    "\n",
    "    \n",
    "# URLを生成\n",
    "!pip install pyngrok\n",
    "%cd /home/studio-lab-user/.ngrok2\n",
    "\n",
    "from pyngrok import conf, ngrok\n",
    "\n",
    "ngrok_token=\"YOUR NGROK TOKEN\"\n",
    "conf.get_default().auth_token = ngrok_token\n",
    "conf.get_default().monitor_thread = False\n",
    "ssh_tunnels = ngrok.get_tunnels(conf.get_default())\n",
    "\n",
    "if len(ssh_tunnels) == 0:\n",
    "    ssh_tunnel = ngrok.connect(8188)\n",
    "    print('address：'+ssh_tunnel.public_url)# このURLに接続する\n",
    "else:\n",
    "    print('address：'+ssh_tunnels[0].public_url)# このURLに接続する\n",
    "\n",
    "    \n",
    "# 実行\n",
    "%cd \"/home/studio-lab-user/comfyui\"\n",
    "!python main.py"
   ]
  },
  {
   "cell_type": "markdown",
   "metadata": {
    "id": "LSuYhcrePesW",
    "jp-MarkdownHeadingCollapsed": true,
    "tags": []
   },
   "source": [
    "#### ***容量の整理***"
   ]
  },
  {
   "cell_type": "code",
   "execution_count": null,
   "metadata": {
    "id": "UbIkXInaPesW",
    "tags": []
   },
   "outputs": [],
   "source": [
    "# 容量の確認\n",
    "!df -h\n",
    "!free -h"
   ]
  },
  {
   "cell_type": "code",
   "execution_count": null,
   "metadata": {
    "id": "tmJatcmiPesW",
    "tags": []
   },
   "outputs": [],
   "source": [
    "# 容量の整理\n",
    "!rm -rf /home/studio-lab-user/.ipynb_checkpoints\n",
    "!rm -rf /home/studio-lab-user/.cache # キャッシュの削除\n",
    "!ls -la /home/studio-lab-user/"
   ]
  },
  {
   "cell_type": "code",
   "execution_count": null,
   "metadata": {
    "id": "hyMor96tPesW",
    "tags": []
   },
   "outputs": [],
   "source": [
    "# model-toolkitで軽量化したモデルを Hugging face にアップロードする\n",
    "Model_Directory=\"/home/studio-lab-user/ui/models/VAE\" # 対象のディレクトリ\n",
    "File_Name=\"vae-ft-mse-840000-ema-pruned.vae-0869.vae.pt\" # 対象のファイル\n",
    "\n",
    "HF_File_Name = \"vae_mse_840000_ema_semi.pt\" # Hugging face のファイル名\n",
    "User_Repository =\"Hugging face のリポジトリ名\"  # Hugging face のリポジトリ名\n",
    "\n",
    "Upload_File = Model_Directory + \"/\" + File_Name\n",
    "Token = \"Hugging face トークン\" #Hugging face トークン\n",
    "\n",
    "%cd {Model_Directory}\n",
    "\n",
    "# アップロード\n",
    "from huggingface_hub import upload_file\n",
    "upload_file(path_or_fileobj=Upload_File, path_in_repo=HF_File_Name, repo_id=User_Repository, token=Token)"
   ]
  }
 ],
 "metadata": {
  "accelerator": "GPU",
  "colab": {
   "private_outputs": true,
   "provenance": []
  },
  "gpuClass": "standard",
  "kernelspec": {
   "display_name": "sd_env:Python",
   "language": "python",
   "name": "conda-env-sd_env-py"
  },
  "language_info": {
   "codemirror_mode": {
    "name": "ipython",
    "version": 3
   },
   "file_extension": ".py",
   "mimetype": "text/x-python",
   "name": "python",
   "nbconvert_exporter": "python",
   "pygments_lexer": "ipython3",
   "version": "3.10.6"
  },
  "vscode": {
   "interpreter": {
    "hash": "e593ac106456af50ce7af38f9671c411b49d6cd90f9b885e167f0f594e09038c"
   }
  }
 },
 "nbformat": 4,
 "nbformat_minor": 4
}
