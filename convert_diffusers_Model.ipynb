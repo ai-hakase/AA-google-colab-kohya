{
  "nbformat": 4,
  "nbformat_minor": 0,
  "metadata": {
    "colab": {
      "provenance": [],
      "include_colab_link": true
    },
    "kernelspec": {
      "name": "python3",
      "display_name": "Python 3"
    },
    "language_info": {
      "name": "python"
    }
  },
  "cells": [
    {
      "cell_type": "markdown",
      "metadata": {
        "id": "view-in-github",
        "colab_type": "text"
      },
      "source": [
        "<a href=\"https://colab.research.google.com/github/koya-jp/AA-google-colab-kohya/blob/master/convert_diffusers_Model.ipynb\" target=\"_parent\"><img src=\"https://colab.research.google.com/assets/colab-badge.svg\" alt=\"Open In Colab\"/></a>"
      ]
    },
    {
      "cell_type": "markdown",
      "source": [
        "Diffusersライブラリに対応していない Modle を使えるように変換する。\n",
        "[Github](https://github.com/koya-jp/AA-google-colab-kohya/blob/master/convert_diffusers_Model.ipynb)"
      ],
      "metadata": {
        "id": "dG1gcMZlqjTt"
      }
    },
    {
      "cell_type": "code",
      "execution_count": null,
      "metadata": {
        "id": "z8W82nNZkhKP"
      },
      "outputs": [],
      "source": [
        "# Driveに接続\n",
        "from google.colab import drive\n",
        "drive.mount('/content/drive', force_remount=True)\n"
      ]
    },
    {
      "cell_type": "code",
      "source": [
        "#スクリプトを格納するフォルダを作成\n",
        "!mkdir -p /content/script\n",
        "\n",
        "#Driveから変換スクリプトをコピー\n",
        "!cp /content/drive/MyDrive/StableDiffusion/script/convert_diffusers/convert_diffusers20_original_sd.py /content/script\n",
        "!cp /content/drive/MyDrive/StableDiffusion/script/convert_diffusers/model_util.py /content/script\n"
      ],
      "metadata": {
        "id": "RRamdP_skkBG"
      },
      "execution_count": null,
      "outputs": []
    },
    {
      "cell_type": "code",
      "source": [
        "# 下記を実行したら、ランタイムを再起動してから再度実行する。\n",
        "!pip install -U diffusers[torch]==0.10.2 transformers  &> /dev/null\n",
        "\n",
        "%cd /content/script\n",
        "\n",
        "#モデルデータを変換する\n",
        "!python convert_diffusers20_original_sd.py /content/drive/MyDrive/StableDiffusion/Model/chilledremix/chilled_remix_v2.safetensors /content/drive/MyDrive/StableDiffusion/Model/chilledremix --v1 --reference_model runwayml/stable-diffusion-v1-5\n",
        "\n",
        "# 実際に　/content/drive/MyDrive/StableDiffusion/Model/chilledremix を使って実行できるか試してみる。"
      ],
      "metadata": {
        "id": "3L62cnA2mkGT"
      },
      "execution_count": null,
      "outputs": []
    },
    {
      "cell_type": "code",
      "source": [
        "# google.colabライブラリのインポート\n",
        "import google.colab\n",
        "\n",
        "# ランタイムの接続を解除して削除\n",
        "google.colab.runtime.unassign()\n"
      ],
      "metadata": {
        "id": "Jxhgo0EDbahZ"
      },
      "execution_count": null,
      "outputs": []
    }
  ]
}