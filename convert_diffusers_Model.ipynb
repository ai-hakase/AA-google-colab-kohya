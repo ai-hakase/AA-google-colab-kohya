{
  "nbformat": 4,
  "nbformat_minor": 0,
  "metadata": {
    "colab": {
      "provenance": [],
      "authorship_tag": "ABX9TyMfsXngjdZSBjWbEIwE7Ate",
      "include_colab_link": true
    },
    "kernelspec": {
      "name": "python3",
      "display_name": "Python 3"
    },
    "language_info": {
      "name": "python"
    }
  },
  "cells": [
    {
      "cell_type": "markdown",
      "metadata": {
        "id": "view-in-github",
        "colab_type": "text"
      },
      "source": [
        "<a href=\"https://colab.research.google.com/github/koya-jp/AA-google-colab-kohya/blob/master/convert_diffusers_Model.ipynb\" target=\"_parent\"><img src=\"https://colab.research.google.com/assets/colab-badge.svg\" alt=\"Open In Colab\"/></a>"
      ]
    },
    {
      "cell_type": "code",
      "execution_count": null,
      "metadata": {
        "id": "z8W82nNZkhKP"
      },
      "outputs": [],
      "source": [
        "# Driveに接続\n",
        "from google.colab import drive\n",
        "drive.mount('/content/drive')\n"
      ]
    },
    {
      "cell_type": "code",
      "source": [
        "#スクリプトを格納するフォルダを作成\n",
        "!mkdir -p /content/script\n",
        "\n",
        "#Driveから変換スクリプトをコピー\n",
        "!cp /content/drive/MyDrive/StableDiffusion/script/convert_diffusers/convert_diffusers20_original_sd.py /content/script\n",
        "!cp /content/drive/MyDrive/StableDiffusion/script/convert_diffusers/model_util.py /content/script\n"
      ],
      "metadata": {
        "id": "RRamdP_skkBG"
      },
      "execution_count": null,
      "outputs": []
    },
    {
      "cell_type": "code",
      "source": [
        "!pip install -U diffusers[torch]==0.10.2\n",
        "\n",
        "%cd /content/script\n",
        "\n",
        "#モデルデータを変換する\n",
        "!python convert_diffusers20_original_sd.py /content/drive/MyDrive/StableDiffusion/Model/chilledremix/chilled_remix_v2.safetensors /content/drive/MyDrive/StableDiffusion/Model/chilledremix --v1 --reference_model runwayml/stable-diffusion-v1-5"
      ],
      "metadata": {
        "id": "3L62cnA2mkGT"
      },
      "execution_count": null,
      "outputs": []
    },
    {
      "cell_type": "code",
      "source": [
        "#@title Modelが生成されたかどうかをテスト { display-mode: \"both\" }\n",
        "\n",
        "from diffusers import StableDiffusionPipeline, EulerDiscreteScheduler\n",
        "from diffusers.models import AutoencoderKL\n",
        "import torch\n",
        "\n",
        "#画像生成に使うモデルデータ\n",
        "model_id = \"/content/drive/MyDrive/StableDiffusion/Model/chilledremix\"\n",
        "#画像生成に使うVAE\n",
        "vae = AutoencoderKL.from_pretrained(\"stabilityai/sd-vae-ft-mse\")\n",
        "#画像生成に使うスケジューラー\n",
        "scheduler = EulerDiscreteScheduler.from_pretrained(model_id, subfolder=\"scheduler\")\n",
        "\n",
        "pipe = StableDiffusionPipeline.from_pretrained(model_id, scheduler=scheduler, vae=vae, custom_pipeline=\"lpw_stable_diffusion\")\n",
        "\n",
        "#LoRAを読み込む\n",
        "pipe = load_safetensors_lora(pipe, '/content/drive/MyDrive/StableDiffusion/Lora/flat2.safetensors',alpha=-1.0)\n",
        "\n",
        "pipe = pipe.to(\"cuda\")"
      ],
      "metadata": {
        "id": "4FL5-lntnGKt"
      },
      "execution_count": null,
      "outputs": []
    }
  ]
}