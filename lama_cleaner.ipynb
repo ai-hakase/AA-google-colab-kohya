{
  "cells": [
    {
      "cell_type": "markdown",
      "metadata": {
        "id": "view-in-github",
        "colab_type": "text"
      },
      "source": [
        "<a href=\"https://colab.research.google.com/github/koya-jp/AA-google-colab-kohya/blob/master/lama_cleaner.ipynb\" target=\"_parent\"><img src=\"https://colab.research.google.com/assets/colab-badge.svg\" alt=\"Open In Colab\"/></a>"
      ]
    },
    {
      "cell_type": "code",
      "execution_count": null,
      "metadata": {
        "id": "qKe0DDAUgGBw",
        "collapsed": true,
        "cellView": "form"
      },
      "outputs": [],
      "source": [
        "#@title 1. Install package\n",
        "#@markdown # 1. Install package\n",
        "#@markdown Github Project: https://github.com/Sanster/lama-cleaner<br>Lama Cleanerをインストール\n",
        "\n",
        "!pip3 install lama-cleaner pyngrok\n",
        "\n",
        "#@markdown　---\n",
        "#@markdown # 2. Model Setting\n",
        "#@markdown 使用するモデルを選択<br>lamaを推奨\n",
        "init_model = 'lama' #@param ['lama', 'sd1.5', 'paint_by_example']\n",
        "port = 4242\n",
        "\n",
        "#@markdown　---\n",
        "#@markdown # 3. Setup ngrok\n",
        "#@markdown 必要に応じてngrokアカウントを作成 -> [ngrok](https://ngrok.com/)<br>\n",
        "#@markdown トークンをコピーして下の欄に貼り付け　-> [Your Authtoken](https://dashboard.ngrok.com/get-started/your-authtoken)\n",
        "ngrok_authtoken = '' #@param {type: 'string'}\n",
        "\n",
        "!ngrok authtoken $ngrok_authtoken\n",
        "\n",
        "from pyngrok import ngrok\n",
        "public_url = ngrok.connect(port).public_url\n",
        "print(f\"ngrok public url: {public_url}.\")\n",
        "\n",
        "\n",
        "#@markdown　---\n",
        "#@markdown # 4. Start Lama Cleaner server\n",
        "#@markdown 起動モードを選択\n",
        "init_mode = 'cuda' #@param ['cuda', 'cpu']\n",
        "\n",
        "#@markdown `http://0.0.0.0:4242/` の **ngrok public link** を開く\n",
        "\n",
        "print(f\"ngrok public url: {public_url}.\")\n",
        "!lama-cleaner --host 0.0.0.0 --port $port --model $init_model --device $init_mode"
      ]
    },
    {
      "cell_type": "code",
      "execution_count": null,
      "metadata": {
        "cellView": "form",
        "id": "_vWkpLYi7wUG"
      },
      "outputs": [],
      "source": [
        "#@title 2. ランタイムの接続を解除して削除\n",
        "\n",
        "#@markdown # 停止後、ランタイムの接続を解除して削除\n",
        "\n",
        "# google.colabライブラリのインポート\n",
        "import google.colab\n",
        "\n",
        "# ランタイムの接続を解除して削除\n",
        "google.colab.runtime.unassign()"
      ]
    }
  ],
  "metadata": {
    "accelerator": "GPU",
    "colab": {
      "provenance": [],
      "private_outputs": true,
      "gpuType": "T4",
      "include_colab_link": true
    },
    "kernelspec": {
      "display_name": "Python 3",
      "name": "python3"
    },
    "language_info": {
      "name": "python"
    }
  },
  "nbformat": 4,
  "nbformat_minor": 0
}