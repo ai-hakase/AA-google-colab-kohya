{
 "cells": [
  {
   "cell_type": "markdown",
   "metadata": {
    "id": "D4U-zSJ0PesD"
   },
   "source": [
    "[![Open in SageMaker Studio Lab](https://studiolab.sagemaker.aws/studiolab.svg)](https://studiolab.sagemaker.aws/import/github/koya-jp/AA-google-colab-kohya/blob/master/webui_sdxl_run_v1.6.0.ipynb)"
   ]
  },
  {
   "cell_type": "markdown",
   "metadata": {
    "id": "yXG2Yh52PesJ",
    "jp-MarkdownHeadingCollapsed": true,
    "tags": []
   },
   "source": [
    "#### ***初期設定***"
   ]
  },
  {
   "cell_type": "code",
   "execution_count": null,
   "metadata": {
    "id": "69ORtIDdPesL"
   },
   "outputs": [],
   "source": [
    "# 環境の準備　（ターミナルで実行）\n",
    "\n",
    "# 新しい環境を作る\n",
    "conda create -y --name sd_env python=3.10.6\n",
    "conda activate sd_env\n",
    "conda install -y ipykernel\n",
    "\n",
    "# 環境をリセット（削除）\n",
    "conda activate sd_env\n",
    "conda deactivate\n",
    "conda remove -y -n sd_env --all"
   ]
  },
  {
   "cell_type": "code",
   "execution_count": null,
   "metadata": {
    "id": "AW38z7jHPesN",
    "tags": []
   },
   "outputs": [],
   "source": [
    "# 環境構築\n",
    "%cd /home/studio-lab-user/\n",
    "!python -V\n",
    "\n",
    "# 必要なパッケージをインストール\n",
    "%conda install -y aria2\n",
    "!pip install torchvision==0.15.2 -U\n",
    "!pip install xformers==0.0.20 -U\n",
    "!pip install triton==2.0.0 -U\n",
    "%conda install -y -c conda-forge libglib\n",
    "\n",
    "# stable diffusion webuiのリポジトリをクローン （コミットハッシュ → 5ef669de080814067961f28357256e8fe27544f4）\n",
    "!git clone https://github.com/AUTOMATIC1111/stable-diffusion-webui /home/studio-lab-user/ui\n",
    "!df -h"
   ]
  },
  {
   "cell_type": "markdown",
   "metadata": {
    "id": "pBzfMCFQPesO",
    "jp-MarkdownHeadingCollapsed": true,
    "tags": []
   },
   "source": [
    "#### ***Model, VAE***"
   ]
  },
  {
   "cell_type": "code",
   "execution_count": null,
   "metadata": {
    "id": "SaAJk33ppFw1",
    "tags": []
   },
   "outputs": [],
   "source": [
    "lode_mode=\"aria2c --console-log-level=error -c -x 16 -s 16 -k 1M\"\n",
    "# !rm -rf /home/studio-lab-user/.cache # キャッシュの削除\n",
    "\n",
    "# Model\n",
    "model_dir=\"/home/studio-lab-user/ui/models/Stable-diffusion\"\n",
    "%cd {model_dir}\n",
    "!rm -rf {model_dir}/*\n",
    "# !rm -rf {model_dir}/MeinaMix.safetensors #削除したいファイルを入力\n",
    "\n",
    "# SDXL\n",
    "!{lode_mode} https://huggingface.co/stabilityai/stable-diffusion-xl-base-1.0/resolve/main/sd_xl_base_1.0_0.9vae.safetensors -d {model_dir} -o sd_xl_base_1.0_0.9vae.safetensors\n",
    "# !{lode_mode} https://civitai.com/api/download/models/145893 -d {model_dir} -o BreakDomainXL.safetensors\n",
    "\n",
    "# Refiner\n",
    "!{lode_mode} https://huggingface.co/ckpt/sd_xl_refiner_1.0/resolve/main/sd_xl_refiner_1.0_0.9vae.safetensors -d {model_dir} -o sd_xl_refiner_1.0.safetensors\n",
    "\n",
    "# SD2.0以前\n",
    "# !{lode_mode} https://civitai.com/api/download/models/119057 -d {model_dir} -o MeinaMix.safetensors\n",
    "# !{lode_mode} https://civitai.com/api/download/models/113479 -d {model_dir} -o beautifulRealistic_v60.safetensors\n",
    "\n",
    "# VAE\n",
    "vae_dir=\"/home/studio-lab-user/ui/models/VAE\"\n",
    "!rm {vae_dir}/*\n",
    "!{lode_mode} https://huggingface.co/ckpt/sdxl_vae/resolve/main/sdxl_vae.safetensors -d {vae_dir} -o sdxl_vae.vae.safetensors\n",
    "# !{lode_mode} https://huggingface.co/okozk/custom_models/resolve/main/vae_mse_840000_ema_semi.pt -d {vae_dir} -o vae_mse_840000_ema_semi.vae.pt\n",
    "\n",
    "# 確認\n",
    "!ls -la {model_dir}\n",
    "!ls -la {vae_dir}\n",
    "!df -h"
   ]
  },
  {
   "cell_type": "markdown",
   "metadata": {
    "id": "Hp-ubKnuPesQ",
    "jp-MarkdownHeadingCollapsed": true,
    "tags": []
   },
   "source": [
    "#### ***embedings***"
   ]
  },
  {
   "cell_type": "code",
   "execution_count": null,
   "metadata": {
    "id": "N8bNv0Q4PesR",
    "tags": []
   },
   "outputs": [],
   "source": [
    "lode_mode=\"aria2c --console-log-level=error -c -q -x 16 -s 16 -k 1M\"\n",
    "# embedings\n",
    "base_dir=\"/home/studio-lab-user/ui/embeddings\"\n",
    "%cd {base_dir}\n",
    "!rm -rf {base_dir}/*\n",
    "\n",
    "!{lode_mode} https://civitai.com/api/download/models/134424 -d {base_dir} -o unaestheticX-NegL.safetensors # Flat2 のように使う\n",
    "!{lode_mode} https://civitai.com/api/download/models/134583 -d {base_dir} -o negativeXL_D.safetensors # 露出度のネガティブ 0.5 ~ 0.7 くらいで普通。\n",
    "!{lode_mode} https://civitai.com/api/download/models/139645 -d {base_dir} -o peopleneg.safetensors # 人間のネガティブな特徴を学習。実写用\n",
    "!{lode_mode} https://civitai.com/api/download/models/128882 -d {base_dir} -o SimplepositiveXLv1.safetensors # Simpleなポジティブ要素\n",
    "\n",
    "# 確認\n",
    "!ls -la {base_dir}\n",
    "!df -h"
   ]
  },
  {
   "cell_type": "markdown",
   "metadata": {
    "id": "a2eUKRpxPesR",
    "jp-MarkdownHeadingCollapsed": true,
    "tags": []
   },
   "source": [
    "#### ***Lora***"
   ]
  },
  {
   "cell_type": "code",
   "execution_count": null,
   "metadata": {
    "id": "buEhO90kPesS",
    "tags": []
   },
   "outputs": [],
   "source": [
    "lode_mode=\"aria2c --console-log-level=error -c -x 16 -s 16 -k 1M\"\n",
    "base_dir=\"/home/studio-lab-user/ui/models/Lora\"\n",
    "!rm -rf {base_dir}/* #リセット\n",
    "\n",
    "# 容量を逼迫するので利用するものだけにする。\n",
    "# !{lode_mode} https://civitai.com/api/download/models/121538 -d {base_dir} -o watercolor-style.safetensors\n",
    "# !{lode_mode} https://civitai.com/api/download/models/136749 -d {base_dir} -o ChibiStyleXL.safetensors\n",
    "# !{lode_mode} https://civitai.com/api/download/models/138938 -d {base_dir} -o Linear-Manga-Style.safetensors\n",
    "# !{lode_mode} https://civitai.com/api/download/models/131266 -d {base_dir} -o JOJO-Style.safetensors\n",
    "!{lode_mode} https://civitai.com/api/download/models/137124 -d {base_dir} -o DreamART-Style.safetensors\n",
    "# !{lode_mode} https://civitai.com/api/download/models/126807 -d {base_dir} -o Photorealistic-Slider.safetensors\n",
    "# !{lode_mode} https://civitai.com/api/download/models/127510 -d {base_dir} -o greg_rutkowski_xl_2.safetensors\n",
    "# !{lode_mode} https://civitai.com/api/download/models/118427 -d {base_dir} -o perfect-eyes-xl.safetensors\n",
    "!{lode_mode} https://civitai.com/api/download/models/62833 -d {base_dir} -o detail-tweaker-xl.safetensors\n",
    "\n",
    "# 確認\n",
    "!ls -la {base_dir}\n",
    "!df -h"
   ]
  },
  {
   "cell_type": "markdown",
   "metadata": {
    "id": "OMVpsGOsPesS",
    "jp-MarkdownHeadingCollapsed": true,
    "tags": []
   },
   "source": [
    "#### ***拡張機能***"
   ]
  },
  {
   "cell_type": "code",
   "execution_count": null,
   "metadata": {
    "id": "95FfvzMyPesS",
    "tags": []
   },
   "outputs": [],
   "source": [
    "# 拡張機能の追加\n",
    "base_dir=\"/home/studio-lab-user/ui/extensions\"\n",
    "lode_mode=\"aria2c --console-log-level=error -c -x 16 -s 16 -k 1M\"\n",
    "%cd {base_dir}\n",
    "# !rm -rf OO #削除したいファイルを入力\n",
    "!rm -rf {base_dir}/*\n",
    "\n",
    "!git clone https://github.com/camenduru/sd-civitai-browser {base_dir}/civitai-browser\n",
    "!git clone https://github.com/AlUlkesh/stable-diffusion-webui-images-browser {base_dir}/images-browser\n",
    "!git clone https://github.com/zanllp/sd-webui-infinite-image-browsing {base_dir}/infinite-image-browsing\n",
    "!git clone https://github.com/Mikubill/sd-webui-controlnet {base_dir}/controlnet\n",
    "!git clone https://github.com/anonCantCode/sd-webui-send-to-controlnet {base_dir}/send-to-controlnet\n",
    "!git clone https://github.com/jexom/sd-webui-depth-lib {base_dir}/depth-lib\n",
    "!git clone https://github.com/richrobber2/canvas-zoom {base_dir}/canvas-zoom\n",
    "# !git clone https://github.com/huchenlei/sd-webui-openpose-editor {base_dir}/openpose-editor\n",
    "# !git clone https://github.com/fkunn1326/openpose-editor {base_dir}/openpose-editor\n",
    "# !git clone https://github.com/hnmr293/posex {base_dir}/posex\n",
    "# !git clone https://github.com/nonnonstop/sd-webui-3d-open-pose-editor {base_dir}/3d-open-pose-editor\n",
    "# !git clone https://github.com/camenduru/tunnels {base_dir}/tunnels\n",
    "# !git clone https://github.com/etherealxx/batchlinks-webui {base_dir}/batchlinks-webui\n",
    "# !git clone https://github.com/catppuccin/stable-diffusion-webui {base_dir}/catppuccin\n",
    "!git clone https://github.com/Haoming02/sd-webui-prompt-format {base_dir}/prompt-format\n",
    "# !git clone https://github.com/eideehi/sd-webui-better-prompt {base_dir}/better-prompt\n",
    "!git clone https://github.com/DominikDoom/a1111-sd-webui-tagcomplete {base_dir}/tagcomplete\n",
    "!git clone https://github.com/chrisgoringe/Styles-Editor {base_dir}/Styles-Editor\n",
    "!git clone https://github.com/opparco/stable-diffusion-webui-two-shot {base_dir}/two-shot\n",
    "# !git clone https://github.com/bbc-mc/sdweb-clip-changer {base_dir}/clip-changer\n",
    "!git clone https://github.com/hnmr293/sd-webui-cutoff {base_dir}/cutoff\n",
    "# !git clone https://github.com/toriato/stable-diffusion-webui-wd14-tagger {base_dir}/wd14-tagger\n",
    "!git clone https://github.com/Bing-su/adetailer {base_dir}/adetailer\n",
    "!git clone https://github.com/pkuliyi2015/multidiffusion-upscaler-for-automatic1111 {base_dir}/multidiffusion-upscaler\n",
    "!git clone https://github.com/alemelis/sd-webui-ar {base_dir}/sd-webui-ar\n",
    "!git clone https://github.com/Zyin055/Config-Presets {base_dir}/Config-Presets\n",
    "!git clone https://github.com/KohakuBlueleaf/a1111-sd-webui-haku-img  {base_dir}/haku-img\n",
    "!git clone https://github.com/yankooliveira/sd-webui-photopea-embed  {base_dir}/photopea-embed\n",
    "!git clone https://github.com/arenasys/stable-diffusion-webui-model-toolkit {base_dir}/model-toolkit\n",
    "!git clone https://github.com/aka7774/sd_katanuki {base_dir}/sd_katanuki\n",
    "!git clone https://github.com/AUTOMATIC1111/stable-diffusion-webui-rembg {base_dir}/rembg\n",
    "\n",
    "# リセット\n",
    "!git reset --hard\n",
    "!git -C /home/studio-lab-user/ui/repositories/stable-diffusion-stability-ai reset --hard\n",
    "# %cd {base_dir}/prompt-all-in-one\n",
    "# !git checkout a46e7f24a9aa4817a6fe81647aa2c85be096f72b\n",
    "\n",
    "# sd-webui-ar の拡張機能に SDXL の推奨サイズを書き込み\n",
    "f = open(\"/home/studio-lab-user/ui/extensions/sd-webui-ar/resolutions.txt\", \"w\")\n",
    "text = \"\"\"1, 1024, 1024 # 1:1 Square\n",
    "2, 886, 1182 # 3:4 Photo\n",
    "3, 836, 1254 # 2:3 Landscape\n",
    "4, 768, 1344 # 9:16 Vertical\n",
    "1/2, 512, 512 # 1:1 Square\n",
    "2/4, 443, 591 # 3:4 Photo\n",
    "3/6, 418, 627 # 2:3 Landscape\n",
    "4/8, 384, 672 # 9:16 Vertical\"\"\"\n",
    "f.write(text)\n",
    "f.close()\n",
    "\n",
    "# 確認\n",
    "%ls -la {base_dir}\n",
    "!df -h"
   ]
  },
  {
   "cell_type": "markdown",
   "metadata": {
    "id": "AstQQh0SPesT",
    "jp-MarkdownHeadingCollapsed": true,
    "tags": []
   },
   "source": [
    "#### ***ControlNet Models***"
   ]
  },
  {
   "cell_type": "code",
   "execution_count": null,
   "metadata": {
    "id": "qpANnwHMPesT",
    "tags": []
   },
   "outputs": [],
   "source": [
    "# ControlNetのモデルの追加\n",
    "lode_mode=\"aria2c --console-log-level=error -c -x 16 -s 16 -k 1M\"\n",
    "base_dir=\"/home/studio-lab-user/ui/models/ControlNet\"\n",
    "\n",
    "!rm -rf {base_dir}/*\n",
    "\n",
    "# SDXL対応版\n",
    "!{lode_mode} https://huggingface.co/ckpt/controlnet-sdxl-1.0/resolve/main/control-lora-canny-rank256.safetensors -d {base_dir} -o control-lora-canny-rank256.safetensors\n",
    "!{lode_mode} https://huggingface.co/ckpt/controlnet-sdxl-1.0/resolve/main/control-lora-depth-rank256.safetensors -d {base_dir} -o control-lora-depth-rank256.safetensors\n",
    "# !{lode_mode} https://huggingface.co/ckpt/controlnet-sdxl-1.0/resolve/main/control-lora-recolor-rank256.safetensors -d {base_dir} -o control-lora-recolor-rank256.safetensors\n",
    "# !{lode_mode} https://huggingface.co/ckpt/controlnet-sdxl-1.0/resolve/main/control-lora-sketch-rank256.safetensors -d {base_dir} -o control-lora-sketch-rank256.safetensors\n",
    "\n",
    "# 軽量版\n",
    "# !{lode_mode} https://huggingface.co/comfyanonymous/ControlNet-v1-1_fp16_safetensors/resolve/main/control_v11p_sd15_canny_fp16.safetensors -d {base_dir} -o control_v11p_sd15_canny_fp16.safetensors\n",
    "# !{lode_mode} https://huggingface.co/comfyanonymous/ControlNet-v1-1_fp16_safetensors/resolve/main/control_v11f1p_sd15_depth_fp16.safetensors -d {base_dir} -o control_v11f1p_sd15_depth_fp16.safetensors\n",
    "# !{lode_mode} https://huggingface.co/comfyanonymous/ControlNet-v1-1_fp16_safetensors/resolve/main/control_v11p_sd15_inpaint_fp16.safetensors -d {base_dir} -o control_v11p_sd15_inpaint_fp16.safetensors\n",
    "\n",
    "# Full Version\n",
    "# !{lode_mode} https://huggingface.co/ckpt/ControlNet-v1-1/resolve/main/control_v11f1p_sd15_depth_fp16.safetensors -d {base_dir} -o control_v11f1p_sd15_depth_fp16.safetensors\n",
    "# !{lode_mode} https://huggingface.co/ckpt/ControlNet-v1-1/resolve/main/control_v11p_sd15_inpaint_fp16.safetensors -d {base_dir} -o control_v11p_sd15_inpaint_fp16.safetensors\n",
    "# !{lode_mode} https://huggingface.co/ckpt/ControlNet-v1-1/resolve/main/control_v11p_sd15_canny_fp16.safetensors -d {base_dir} -o control_v11p_sd15_canny_fp16.safetensors\n",
    "# !{lode_mode} https://huggingface.co/ckpt/ControlNet-v1-1/resolve/main/control_v11f1e_sd15_tile_fp16.safetensors -d {lode_mode} -o control_v11f1e_sd15_tile_fp16.safetensors\n",
    "# !{lode_mode} https://huggingface.co/ckpt/ControlNet-v1-1/resolve/main/control_v11e_sd15_ip2p_fp16.safetensors -d {lode_mode} -o control_v11e_sd15_ip2p_fp16.safetensors\n",
    "# !{lode_mode} https://huggingface.co/ckpt/ControlNet-v1-1/resolve/main/control_v11e_sd15_shuffle_fp16.safetensors -d {lode_mode} -o control_v11e_sd15_shuffle_fp16.safetensors\n",
    "# !{lode_mode} https://huggingface.co/ckpt/ControlNet-v1-1/resolve/main/control_v11p_sd15_lineart_fp16.safetensors -d {lode_mode} -o control_v11p_sd15_lineart_fp16.safetensors\n",
    "# !{lode_mode} https://huggingface.co/ckpt/ControlNet-v1-1/resolve/main/control_v11p_sd15_mlsd_fp16.safetensors -d {lode_mode} -o control_v11p_sd15_mlsd_fp16.safetensors\n",
    "# !{lode_mode} https://huggingface.co/ckpt/ControlNet-v1-1/resolve/main/control_v11p_sd15_normalbae_fp16.safetensors -d {lode_mode} -o control_v11p_sd15_normalbae_fp16.safetensors\n",
    "# !{lode_mode} https://huggingface.co/ckpt/ControlNet-v1-1/resolve/main/control_v11p_sd15_openpose_fp16.safetensors -d {lode_mode} -o control_v11p_sd15_openpose_fp16.safetensors\n",
    "# !{lode_mode} https://huggingface.co/ckpt/ControlNet-v1-1/resolve/main/control_v11p_sd15_scribble_fp16.safetensors -d {lode_mode} -o control_v11p_sd15_scribble_fp16.safetensors\n",
    "# !{lode_mode} https://huggingface.co/ckpt/ControlNet-v1-1/resolve/main/control_v11p_sd15_seg_fp16.safetensors -d {lode_mode} -o control_v11p_sd15_seg_fp16.safetensors\n",
    "# !{lode_mode} https://huggingface.co/ckpt/ControlNet-v1-1/resolve/main/control_v11p_sd15_softedge_fp16.safetensors -d {lode_mode} -o control_v11p_sd15_softedge_fp16.safetensors\n",
    "# !{lode_mode} https://huggingface.co/ckpt/ControlNet-v1-1/resolve/main/control_v11p_sd15s2_lineart_anime_fp16.safetensors -d {lode_mode} -o control_v11p_sd15s2_lineart_anime_fp16.safetensors\n",
    "\n",
    "# 確認\n",
    "%cd {base_dir}\n",
    "!ls -la {base_dir}\n",
    "!df -h"
   ]
  },
  {
   "cell_type": "markdown",
   "metadata": {
    "id": "MekOzfCbPesT",
    "jp-MarkdownHeadingCollapsed": true,
    "tags": []
   },
   "source": [
    "#### ***depth-lib の画像を配置***"
   ]
  },
  {
   "cell_type": "code",
   "execution_count": null,
   "metadata": {
    "id": "YMNObnU3PesU",
    "tags": []
   },
   "outputs": [],
   "source": [
    "# maps.zip をホームに用意しておくためにダウンロード\n",
    "lode_mode=\"aria2c --console-log-level=error -c -x 16 -s 16 -k 1M\"\n",
    "maps_dir = \"/home/studio-lab-user/ui/extensions/depth-lib/maps\"\n",
    "home = \"/home/studio-lab-user\"\n",
    "!{lode_mode} https://huggingface.co/okozk/depth_maps/resolve/main/maps.zip -d {home} -o maps.zip\n",
    "\n",
    "# 確認\n",
    "!ls {maps_dir}"
   ]
  },
  {
   "cell_type": "code",
   "execution_count": null,
   "metadata": {
    "id": "zIZogn1YPesU",
    "tags": []
   },
   "outputs": [],
   "source": [
    "# depth-lib の画像をの画像を準備する (1GB)\n",
    "maps_dir = \"/home/studio-lab-user/ui/extensions/depth-lib/maps\"\n",
    "delete_folder = \"/home/studio-lab-user/Delete\"\n",
    "\n",
    "# 今日日付を取得\n",
    "import datetime\n",
    "today = datetime.datetime.now().strftime(\"%Y%m%d_%H%M%S\")\n",
    "\n",
    "# Deleteフォルダが無ければ作成\n",
    "import os\n",
    "if not os.path.exists(delete_folder):\n",
    "    os.makedirs(delete_folder)\n",
    "\n",
    "# Zipファイルを解答して不要なフォルダを削除する。\n",
    "!unzip -d {maps_dir}/ /home/studio-lab-user/maps.zip > /dev/null\n",
    "!mv /home/studio-lab-user/maps.zip {delete_folder}/maps_{today}.zip\n",
    "!rm -rf {maps_dir}/__MACOSX\n",
    "\n",
    "# 確認\n",
    "!ls {maps_dir}"
   ]
  },
  {
   "cell_type": "markdown",
   "metadata": {
    "id": "2Bf_6pt0PesU",
    "jp-MarkdownHeadingCollapsed": true,
    "tags": []
   },
   "source": [
    "#### ***sd_katanuki***"
   ]
  },
  {
   "cell_type": "code",
   "execution_count": null,
   "metadata": {
    "id": "9cge9y2iPesU",
    "tags": []
   },
   "outputs": [],
   "source": [
    "# sd_katanuki のフォルダを用意 ⭐ train-images.zip を用意しておく\n",
    "!mkdir /home/studio-lab-user/sd_katanuki_in\n",
    "!mkdir /home/studio-lab-user/sd_katanuki_out\n",
    "!unzip -d /home/studio-lab-user/sd_katanuki_in /home/studio-lab-user/katanuki.zip > /dev/null\n",
    "!rm -rf /home/studio-lab-user/sd_katanuki_in/__MACOSX\n",
    "\n",
    "# 確認\n",
    "!ls /home/studio-lab-user/sd_katanuki_in # | wc -l"
   ]
  },
  {
   "cell_type": "code",
   "execution_count": null,
   "metadata": {
    "id": "ExMFDoOePesU",
    "tags": []
   },
   "outputs": [],
   "source": [
    "# sd_katanuki の結果をZipにする\n",
    "%cd /home/studio-lab-user\n",
    "\n",
    "# 今日日付を取得\n",
    "import datetime\n",
    "today = datetime.datetime.now().strftime(\"%Y%m%d_%H%M%S\")\n",
    "\n",
    "# Deleteフォルダが無ければ作成\n",
    "delete_folder = \"/home/studio-lab-user/Delete\"\n",
    "if not os.path.exists(delete_folder):\n",
    "    os.makedirs(delete_folder)\n",
    "\n",
    "# 作成したファイルを移動してZipする。\n",
    "!tar -czf /home/studio-lab-user/sd_katanuki_out_{today}.tar.gz sd_katanuki_out\n",
    "!mv /home/studio-lab-user/sd_katanuki_in /home/studio-lab-user/Delete/sd_katanuki_in_{today}\n",
    "!mv /home/studio-lab-user/sd_katanuki_out /home/studio-lab-user/Delete/sd_katanuki_out_{today}\n",
    "!mv /home/studio-lab-user/katanuki.zip /home/studio-lab-user/Delete/katanuki_{today}.zip"
   ]
  },
  {
   "cell_type": "markdown",
   "metadata": {
    "id": "CYMWBdUSPesV",
    "jp-MarkdownHeadingCollapsed": true,
    "tags": []
   },
   "source": [
    "#### ***画像生成 の結果をZipにする***"
   ]
  },
  {
   "cell_type": "code",
   "execution_count": null,
   "metadata": {
    "id": "2WuNEg1WPesV",
    "tags": []
   },
   "outputs": [],
   "source": [
    "# 画像生成 の結果をZipにする。100件以上のフォルダは、100件ごとにZipにする。\n",
    "\n",
    "import os\n",
    "import glob\n",
    "import datetime\n",
    "import zipfile\n",
    "import shutil\n",
    "\n",
    "# 今日日付を取得\n",
    "today = datetime.datetime.now().strftime(\"%Y%m%d_%H%M%S\")\n",
    "\n",
    "# 圧縮したい画像のパス\n",
    "# 画像のパス\n",
    "img_paths = [f\"/home/studio-lab-user/ui/outputs/{folder}\" for folder in [\"txt2img-images\", \"txt2img-grids\", \"img2img-images\", \"img2img-grids\", \"extras-images\"]]\n",
    "\n",
    "# ZIPファイルのパス\n",
    "zip_paths = [f\"/home/studio-lab-user/outputs_{folder}_{today}.zip\" for folder in [\"txt2img-images\", \"txt2img-grids\", \"img2img-images\", \"img2img-grids\", \"extras-images\"]]\n",
    "\n",
    "# 移動対象のフォルダのパス\n",
    "move_paths = [f\"{img_path}/*\" for img_path in img_paths]\n",
    "\n",
    "# 不要なフォルダのパス\n",
    "delete_paths = [f\"/home/studio-lab-user/Delete/{folder}/{today}\" for folder in [\"txt2img-images\", \"txt2img-grids\", \"img2img-images\", \"img2img-grids\", \"extras-images\"]]\n",
    "\n",
    "\n",
    "# ZIPファイルに圧縮する関数\n",
    "def zip_files(img_path, zip_path):\n",
    "    with zipfile.ZipFile(zip_path, \"w\", zipfile.ZIP_DEFLATED) as zf:\n",
    "        # サブフォルダとファイルの全てのパスを取得\n",
    "        for root, dirs, files in os.walk(img_path):\n",
    "            for file in files:\n",
    "                # ZIPファイルに書き込むパスを相対パスにする\n",
    "                rel_path = os.path.relpath(os.path.join(root, file), img_path)\n",
    "                # ZIPファイルに書き込む\n",
    "                zf.write(os.path.join(root, file), rel_path)\n",
    "\n",
    "\n",
    "# img_pathのファイル数が50以上あれば、1, 2のような名前でフォルダを作って、100件ずつ移動させる関数\n",
    "def split_files(img_path):\n",
    "    # img_pathのファイル数を取得\n",
    "    file_count = len(os.listdir(img_path))\n",
    "\n",
    "    # ファイル数が50以上ならば\n",
    "    if file_count > 50:\n",
    "        # フォルダの番号を初期化\n",
    "        folder_num = 1\n",
    "        # ファイルのリストを取得\n",
    "        file_list = os.listdir(img_path)\n",
    "        # ファイルのリストを100件ずつに分割\n",
    "        file_chunks = [file_list[i:i+50] for i in range(0, file_count, 50)]\n",
    "        # 分割したファイルのリストごとに処理\n",
    "        for file_chunk in file_chunks:\n",
    "            # フォルダの名前を作成\n",
    "            folder_name = str(folder_num)\n",
    "            # フォルダのパスを作成\n",
    "            folder_path = os.path.join(img_path, \"zip_\"+folder_name)\n",
    "            # フォルダがなければ作成\n",
    "            if not os.path.exists(folder_path):\n",
    "                os.makedirs(folder_path)\n",
    "            # フォルダにファイルを移動\n",
    "            for file in file_chunk:\n",
    "                file_path = os.path.join(img_path, file)\n",
    "                shutil.move(file_path, folder_path)\n",
    "            # フォルダの番号を更新\n",
    "            folder_num += 1\n",
    "\n",
    "\n",
    "# 画像のパスとZIPファイルのパスのペアごとに圧縮と移動を行う関数\n",
    "def zip_and_move(img_path, zip_path, move_path, delete_path):\n",
    "    # 画像のパスに何もフォルダやファイルがなければスキップする\n",
    "    if len(os.listdir(img_path)) == 0:\n",
    "        return\n",
    "\n",
    "    # img_pathのファイル数が100以上あれば、1, 2のような名前でフォルダを作って、100件ずつ移動させる関数を呼び出す\n",
    "    split_files(img_path)\n",
    "\n",
    "    # img_pathのサブフォルダのリストを取得\n",
    "    subfolder_list = os.listdir(img_path)\n",
    "\n",
    "    # サブフォルダのリストごとに処理\n",
    "    for subfolder in subfolder_list:\n",
    "        # サブフォルダのパスを作成\n",
    "        subfolder_path = os.path.join(img_path, subfolder)\n",
    "        # Zipファイルの名前を作成（末尾にサブフォルダの名前を付け足す）\n",
    "        zip_name = zip_path[:-4] + \"_\" + subfolder + \".zip\"\n",
    "        # Zipファイルに圧縮する関数を呼び出す\n",
    "        zip_files(subfolder_path, zip_name)\n",
    "\n",
    "    # 移動先のディレクトリがなければ作成する\n",
    "    if not os.path.exists(delete_path):\n",
    "        os.makedirs(delete_path)\n",
    "\n",
    "    # ワイルドカードにマッチするパスのリストを取得\n",
    "    move_list = glob.glob(move_path)\n",
    "\n",
    "    # 移動を実行\n",
    "    for file in move_list:\n",
    "        shutil.move(file, delete_path)\n",
    "\n",
    "    print(img_path)\n",
    "    !ls {img_path}\n",
    "\n",
    "\n",
    "# 容量の整理\n",
    "!rm -rf /home/studio-lab-user/.cache # キャッシュの削除\n",
    "\n",
    "# 画像のパスとZIPファイルのパスのペアごとに圧縮と移動を行う\n",
    "for img_path, zip_path, move_path, delete_path in zip(img_paths, zip_paths, move_paths, delete_paths):\n",
    "    zip_and_move(img_path, zip_path, move_path, delete_path)\n",
    "\n",
    "# 予備\n",
    "# today = datetime.datetime.now().strftime(\"%Y%m%d_%H%M%S\")\n",
    "# zip_path = f\"/home/studio-lab-user/outputs-{today}.zip\"\n",
    "# img_path = \"Delete/txt2img-images/20230816_130141/2023-08-16/2\"\n",
    "# zip_files(\"/home/studio-lab-user/\"+img_path,zip_path)"
   ]
  },
  {
   "cell_type": "markdown",
   "metadata": {
    "id": "RUMktDrzPesV",
    "tags": []
   },
   "source": [
    "#### ***⭐ 実行 ----------------------------------------------------------------------------***"
   ]
  },
  {
   "cell_type": "code",
   "execution_count": null,
   "metadata": {
    "id": "FsTN3ACUPesV",
    "tags": []
   },
   "outputs": [],
   "source": [
    "# 現在の空き容量を表示\n",
    "# !rm -rf /home/studio-lab-user/.cache # キャッシュの削除\n",
    "!df -h\n",
    "\n",
    "# Web ui 起動\n",
    "%cd /home/studio-lab-user/ui\n",
    "ngrok_token=\"YOUR NGROK TOKEN\"\n",
    "# home=\"/home/studio-lab-user/ui\"\n",
    "# %cd {home}\n",
    "# !sed -i -e '''/from modules import launch_utils/a\\import os''' {home}/launch.py\n",
    "# !sed -i -e '''/        prepare_environment()/a\\        os.system\\(f\\\"\"\"sed -i -e ''\\\"s/dict()))/dict())).cuda()/g\\\"'' {home}/repositories/stable-diffusion-stability-ai/ldm/util.py\"\"\")''' {home}/launch.py\n",
    "# !sed -i -e 's/\\[\"sd_model_checkpoint\"\\]/\\[\"sd_model_checkpoint\",\"sd_vae\",\"CLIP_stop_at_last_layers\"\\]/g' {home}/modules/shared.py\n",
    "ARGS = \"\\\"--listen --xformers --enable-insecure-extension-access --theme dark --gradio-queue --no-half-vae --ngrok \" + ngrok_token + \"\\\"\"\n",
    "!COMMANDLINE_ARGS=$ARGS python launch.py"
   ]
  },
  {
   "cell_type": "markdown",
   "metadata": {
    "id": "LSuYhcrePesW",
    "jp-MarkdownHeadingCollapsed": true,
    "tags": []
   },
   "source": [
    "#### ***容量の整理***"
   ]
  },
  {
   "cell_type": "code",
   "execution_count": null,
   "metadata": {
    "id": "UbIkXInaPesW",
    "tags": []
   },
   "outputs": [],
   "source": [
    "# 容量の確認\n",
    "!df -h\n",
    "!free -h"
   ]
  },
  {
   "cell_type": "code",
   "execution_count": null,
   "metadata": {
    "id": "tmJatcmiPesW",
    "tags": []
   },
   "outputs": [],
   "source": [
    "# 容量の整理\n",
    "!rm -rf /home/studio-lab-user/.ipynb_checkpoints\n",
    "!rm -rf /home/studio-lab-user/.cache # キャッシュの削除\n",
    "# !rm -rf /home/studio-lab-user/.conda #リセット（環境を作りなおすなら実行）\n",
    "!ls -la /home/studio-lab-user/"
   ]
  },
  {
   "cell_type": "code",
   "execution_count": null,
   "metadata": {
    "id": "hyMor96tPesW",
    "tags": []
   },
   "outputs": [],
   "source": [
    "# model-toolkitで軽量化したモデルを Hugging face にアップロードする\n",
    "Model_Directory=\"/home/studio-lab-user/ui/models/VAE\" # 対象のディレクトリ\n",
    "File_Name=\"vae-ft-mse-840000-ema-pruned.vae-0869.vae.pt\" # 対象のファイル\n",
    "\n",
    "HF_File_Name = \"vae_mse_840000_ema_semi.pt\" # Hugging face のファイル名\n",
    "User_Repository =\"Hugging face のリポジトリ名\"  # Hugging face のリポジトリ名\n",
    "\n",
    "Upload_File = Model_Directory + \"/\" + File_Name\n",
    "Token = \"Hugging face トークン\" #Hugging face トークン\n",
    "\n",
    "%cd {Model_Directory}\n",
    "\n",
    "# アップロード\n",
    "from huggingface_hub import upload_file\n",
    "upload_file(path_or_fileobj=Upload_File, path_in_repo=HF_File_Name, repo_id=User_Repository, token=Token)"
   ]
  }
 ],
 "metadata": {
  "accelerator": "GPU",
  "colab": {
   "private_outputs": true,
   "provenance": []
  },
  "gpuClass": "standard",
  "kernelspec": {
   "display_name": "sd_env:Python",
   "language": "python",
   "name": "conda-env-sd_env-py"
  },
  "language_info": {
   "codemirror_mode": {
    "name": "ipython",
    "version": 3
   },
   "file_extension": ".py",
   "mimetype": "text/x-python",
   "name": "python",
   "nbconvert_exporter": "python",
   "pygments_lexer": "ipython3",
   "version": "3.10.6"
  },
  "vscode": {
   "interpreter": {
    "hash": "e593ac106456af50ce7af38f9671c411b49d6cd90f9b885e167f0f594e09038c"
   }
  }
 },
 "nbformat": 4,
 "nbformat_minor": 4
}
