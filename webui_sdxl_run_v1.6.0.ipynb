{
 "cells": [
  {
   "cell_type": "markdown",
   "metadata": {
    "id": "yXG2Yh52PesJ",
    "tags": []
   },
   "source": [
    "# ● 初期設定（最初の一回のみ実行）"
   ]
  },
  {
   "cell_type": "markdown",
   "metadata": {},
   "source": [
    "#### ***Python3.10.6 環境の準備　（このコマンドのみターミナルで実行）***"
   ]
  },
  {
   "cell_type": "code",
   "execution_count": null,
   "metadata": {
    "id": "69ORtIDdPesL"
   },
   "outputs": [],
   "source": [
    "conda create -y --name sd_env python=3.10.6\n",
    "conda activate sd_env\n",
    "conda install -y ipykernel"
   ]
  },
  {
   "cell_type": "markdown",
   "metadata": {},
   "source": [
    "#### ***Stable Diffusion WebUI　の導入（カーネルを『sd_env』に切り替えて実行）***"
   ]
  },
  {
   "cell_type": "code",
   "execution_count": null,
   "metadata": {
    "id": "AW38z7jHPesN",
    "tags": []
   },
   "outputs": [],
   "source": [
    "%cd /home/studio-lab-user/\n",
    "!python -V\n",
    "\n",
    "# 必要なライブラリのインストール\n",
    "%conda install -y -c conda-forge libglib==2.78.0 aria2==1.36.0\n",
    "!pip install triton==2.0.0 httpx==0.24.1 matplotlib==3.8.1 ipython==8.17.2 -U\n",
    "!pip install torchvision==0.15.2 -U\n",
    "!pip install xformers==0.0.20 -U\n",
    "\n",
    "import os\n",
    "import glob\n",
    "from IPython import get_ipython\n",
    "\n",
    "# グラフ描画ライブラリをインラインで表示する設定\n",
    "get_ipython().run_line_magic('matplotlib', 'inline')\n",
    "\n",
    "# Stable Diffusion WebUI のリポジトリが無ければクローン\n",
    "if not os.path.isdir(\"/home/studio-lab-user/ui\"):\n",
    "    %cd /home/studio-lab-user\n",
    "    !git clone https://github.com/AUTOMATIC1111/stable-diffusion-webui /home/studio-lab-user/ui\n",
    "    # Stable Diffusion WebUI の v1.6.0 を使用する。\n",
    "    %cd /home/studio-lab-user/ui\n",
    "    !git checkout master\n",
    "    !git checkout 5ef669de080814067961f28357256e8fe27544f4"
   ]
  },
  {
   "cell_type": "markdown",
   "metadata": {
    "id": "RUMktDrzPesV",
    "tags": []
   },
   "source": [
    "# ● Stable Diffusion WebUI を起動"
   ]
  },
  {
   "cell_type": "code",
   "execution_count": null,
   "metadata": {
    "id": "FsTN3ACUPesV",
    "tags": []
   },
   "outputs": [],
   "source": [
    "# Modelがなければ sd_xl_base_1.0.safetensors をダウンロード\n",
    "if not glob.glob(\"/home/studio-lab-user/ui/models/Stable-diffusion/*.safetensors\"):\n",
    "    os.system(\"aria2c --console-log-level=error -c -x 16 -s 16 -k 1M https://huggingface.co/stabilityai/stable-diffusion-xl-base-1.0/resolve/main/sd_xl_base_1.0.safetensors -d /home/studio-lab-user/ui/models/Stable-diffusion -o sd_xl_base_1.0.safetensors\")\n",
    "    \n",
    "# 設定を変更\n",
    "!sed -i -e 's/\\[\"sd_model_checkpoint\"\\]/\\[\"sd_model_checkpoint\",\"sd_vae\",\"CLIP_stop_at_last_layers\"\\]/g' /home/studio-lab-user/ui/modules/shared_options.py\n",
    "\n",
    "if os.path.exists(\"/home/studio-lab-user/ui/ui-config.json\"):\n",
    "    !sed -i -e 's/value\": 512/value\": 1024/g' /home/studio-lab-user/ui/ui-config.json\n",
    "    !sed -i -e 's/Grid margins (px)\\/value\": 0/Grid margins (px)\\/value\": 5/g' /home/studio-lab-user/ui/ui-config.json\n",
    "\n",
    "if os.path.exists(\"/home/studio-lab-user/ui/config.json\"):\n",
    "    !sed -i -e 's/\"\\[date\\]\"/\"\\[date\\]-\\[model_name\\]\"/g' /home/studio-lab-user/ui/config.json\n",
    "\n",
    "# NGROK TOKEN を定義\n",
    "ngrok_token=\"YOUR NGROK TOKEN\"\n",
    "ngrok_token=\"2SOs8DsoZvkiDNBFjisetiIZJqu_7XBuj79rA4yeX3Bxas3Dc\"\n",
    "\n",
    "# Stable Diffusion WebUI を起動\n",
    "%cd /home/studio-lab-user/ui\n",
    "ARGS = \"\\\"--listen --xformers --enable-insecure-extension-access --no-half-vae --ngrok \" + ngrok_token + \"\\\"\"\n",
    "!COMMANDLINE_ARGS=$ARGS python launch.py"
   ]
  },
  {
   "cell_type": "markdown",
   "metadata": {
    "tags": []
   },
   "source": [
    "# ● Options"
   ]
  },
  {
   "cell_type": "markdown",
   "metadata": {
    "id": "pBzfMCFQPesO",
    "tags": []
   },
   "source": [
    "#### ***Model, VAE のダウンロード***"
   ]
  },
  {
   "cell_type": "code",
   "execution_count": null,
   "metadata": {
    "id": "SaAJk33ppFw1",
    "tags": []
   },
   "outputs": [],
   "source": [
    "\"\"\"\n",
    "ダウンロードしないものはコメントアウトする。\n",
    "コメントアウトの方法 → 行頭に『# 』をつける。\n",
    "\"\"\"\n",
    "\n",
    "# ダウンロード方法を定義\n",
    "ARIA2=\"aria2c --console-log-level=error -c -x 16 -s 16 -k 1M\"\n",
    "# Modelのディレクトリを定義\n",
    "MODEL_DIR=\"/home/studio-lab-user/ui/models/Stable-diffusion\"\n",
    "!rm -rf {MODEL_DIR}/* #学習モデル を全て削除（リセット）\n",
    "\n",
    "# blue_pencil　\n",
    "!{ARIA2} https://huggingface.co/bluepen5805/blue_pencil-XL/resolve/main/blue_pencil-XL-v0.8.0.safetensors -d {MODEL_DIR} -o blue_pencil-XL-v0.8.0.safetensors\n",
    "\n",
    "# sdvn7Nijistylexl_v1\n",
    "# !{ARIA2} https://civitai.com/api/download/models/155870 -d {MODEL_DIR} -o sdvn7Nijistylexl_v1.safetensors\n",
    "\n",
    "# CherryPickerXL26　\n",
    "# !{ARIA2} https://civitai.com/api/download/models/173768 -d {MODEL_DIR} -o CherryPickerXL26.safetensors\n",
    "\n",
    "# Refiner\n",
    "# !{ARIA2} https://huggingface.co/stabilityai/stable-diffusion-xl-refiner-1.0/resolve/main/sd_xl_refiner_1.0.safetensors -d {MODEL_DIR} -o sd_xl_refiner_1.0.safetensors\n",
    "\n",
    "# SD2.0以前\n",
    "# !{ARIA2} https://civitai.com/api/download/models/119057 -d {MODEL_DIR} -o MeinaMix.safetensors\n",
    "# !{ARIA2} https://civitai.com/api/download/models/113479 -d {MODEL_DIR} -o beautifulRealistic_v60.safetensors\n",
    "\n",
    "\n",
    "# VAE\n",
    "VAE_DIR=\"/home/studio-lab-user/ui/models/VAE\"\n",
    "!rm {VAE_DIR}/*\n",
    "# !{ARIA2} https://huggingface.co/ckpt/sdxl_vae/resolve/main/sdxl_vae.safetensors -d {VAE_DIR} -o sdxl_vae.vae.safetensors\n",
    "\n",
    "\n",
    "# 確認\n",
    "!echo -= MODEL_DIR を確認 =- && ls -l {MODEL_DIR}\n",
    "!echo -= VAE_DIR を確認 =- && ls -l {VAE_DIR}"
   ]
  },
  {
   "cell_type": "markdown",
   "metadata": {
    "id": "Hp-ubKnuPesQ",
    "tags": []
   },
   "source": [
    "#### ***LoRA, Embedings のダウンロード***"
   ]
  },
  {
   "cell_type": "code",
   "execution_count": null,
   "metadata": {
    "id": "N8bNv0Q4PesR",
    "tags": []
   },
   "outputs": [],
   "source": [
    "\"\"\"\n",
    "ダウンロードしないものはコメントアウトする。\n",
    "コメントアウトの方法 → 行頭に『# 』をつける。\n",
    "\"\"\"\n",
    "\n",
    "# ダウンロード方法を定義\n",
    "ARIA2=\"aria2c --console-log-level=error -c -x 16 -s 16 -k 1M\"\n",
    "# LoRA のディレクトリを定義\n",
    "LORA_DIR=\"/home/studio-lab-user/ui/models/Lora\" \n",
    "# Embedings のディレクトリを定義\n",
    "EMBEDDINGS_DIR=\"/home/studio-lab-user/ui/embeddings\"\n",
    "\n",
    "\n",
    "# LoRA のダウンロード ######################################################################\n",
    "!rm -rf {LORA_DIR}/*  #LoRA を全て削除（リセット）\n",
    "!{ARIA2} https://civitai.com/api/download/models/155932 -d {LORA_DIR} -o ClearHand-V2.safetensors\n",
    "# !{ARIA2} https://civitai.com/api/download/models/62833 -d {LORA_DIR} -o detail-tweaker-xl.safetensors\n",
    "\n",
    "\n",
    "# Embedings のダウンロード ######################################################################\n",
    "!rm -rf {EMBEDDINGS_DIR}/*  #Embedings を全て削除（リセット）\n",
    "!{ARIA2} https://civitai.com/api/download/models/175819 -d {EMBEDDINGS_DIR} -o unaestheticXL_Sky3.1.safetensors\n",
    "!{ARIA2} https://civitai.com/api/download/models/162146 -d {EMBEDDINGS_DIR} -o unaestheticXL_AYv1.safetensors\n",
    "!{ARIA2} https://civitai.com/api/download/models/149308 -d {EMBEDDINGS_DIR} -o unaestheticXLv31.safetensors\n",
    "\n",
    "\n",
    "# 確認\n",
    "!echo -= LORA_DIR を確認 =- && ls -l {LORA_DIR}\n",
    "!echo -= EMBEDDINGS_DIR を確認 =- && ls -l {EMBEDDINGS_DIR}"
   ]
  },
  {
   "cell_type": "markdown",
   "metadata": {
    "id": "OMVpsGOsPesS",
    "tags": []
   },
   "source": [
    "#### ***拡張機能のインストール***"
   ]
  },
  {
   "cell_type": "code",
   "execution_count": null,
   "metadata": {
    "id": "95FfvzMyPesS",
    "tags": []
   },
   "outputs": [],
   "source": [
    "\"\"\"\n",
    "インストールしないものはコメントアウトする。\n",
    "コメントアウトの方法 → 行頭に『# 』をつける。\n",
    "\"\"\"\n",
    "\n",
    "# 拡張機能 のディレクトリを定義\n",
    "EXTENSIONS_DIR = \"/home/studio-lab-user/ui/extensions\"\n",
    "# !rm -rf {EXTENSIONS_DIR}/*  #拡張機能 を全て削除（リセット）\n",
    "\n",
    "# 拡張機能のインストール\n",
    "!git clone https://github.com/AlUlkesh/stable-diffusion-webui-images-browser {EXTENSIONS_DIR}/images-browser\n",
    "!git clone https://github.com/zanllp/sd-webui-infinite-image-browsing {EXTENSIONS_DIR}/infinite-image-browsing\n",
    "!git clone https://github.com/Haoming02/sd-webui-prompt-format {EXTENSIONS_DIR}/prompt-format\n",
    "!git clone https://github.com/DominikDoom/a1111-sd-webui-tagcomplete {EXTENSIONS_DIR}/tagcomplete\n",
    "!git clone https://github.com/toriato/stable-diffusion-webui-wd14-tagger {EXTENSIONS_DIR}/wd14-tagger\n",
    "!git clone https://github.com/Physton/sd-webui-prompt-all-in-one {EXTENSIONS_DIR}/prompt-all-in-one\n",
    "!git clone https://github.com/Bing-su/adetailer {EXTENSIONS_DIR}/adetailer\n",
    "!git clone https://github.com/Mikubill/sd-webui-controlnet {EXTENSIONS_DIR}/sd-webui-controlnet\n",
    "!git clone https://github.com/anonCantCode/sd-webui-send-to-controlnet {EXTENSIONS_DIR}/send-to-controlnet\n",
    "!git clone https://github.com/jexom/sd-webui-depth-lib {EXTENSIONS_DIR}/depth-lib\n",
    "!git clone https://github.com/IDEA-Research/DWPose {EXTENSIONS_DIR}/DWPose\n",
    "!git clone https://github.com/huchenlei/sd-webui-openpose-editor {EXTENSIONS_DIR}/openpose-editor\n",
    "!git clone https://github.com/ljleb/sd-webui-freeu {EXTENSIONS_DIR}/freeu\n",
    "!git clone https://github.com/alemelis/sd-webui-ar {EXTENSIONS_DIR}/sd-webui-ar\n",
    "!git clone https://github.com/yankooliveira/sd-webui-photopea-embed  {EXTENSIONS_DIR}/photopea-embed\n",
    "!git clone https://github.com/AUTOMATIC1111/stable-diffusion-webui-rembg {EXTENSIONS_DIR}/rembg\n",
    "# !git clone https://github.com/aka7774/sd_katanuki {EXTENSIONS_DIR}/sd_katanuki\n",
    "# !git clone https://github.com/AlUlkesh/sd_save_intermediate_images {EXTENSIONS_DIR}/sd_save_intermediate_images\n",
    "\n",
    "# wd14-tagger のエラー対策（コミット → 99bf7d8132cb757edbcdfaad654f31f32f3500a5）\n",
    "!sed -i -e 's/from webui import wrap_gradio_gpu_call/from modules.call_queue import wrap_gradio_gpu_call/g' /home/studio-lab-user/ui/extensions/wd14-tagger/tagger/ui.py\n",
    "!sed -i -e 's/from modules.shared import models_path/import argparse\\nimport os\\n\\nmodules_path = os.path.dirname(os.path.realpath(__file__))\\n\\nparser_pre = argparse.ArgumentParser(add_help=False)\\nparser_pre.add_argument(\"--data-dir\", type=str, default=os.path.dirname(modules_path), help=\"base path where all user data is stored\", )\\ncmd_opts_pre = parser_pre.parse_known_args()[0]\\ndata_path = cmd_opts_pre.data_dir\\n\\nmodels_path = os.path.join(data_path, \"models\")/g' /home/studio-lab-user/ui/extensions/wd14-tagger/preload.py\n",
    "\n",
    "# sd-webui-ar の拡張機能に SDXL の推奨サイズを書き込み\n",
    "f = open(\"/home/studio-lab-user/ui/extensions/sd-webui-ar/resolutions.txt\", \"w\")\n",
    "text = \"\"\"SDv2, 512, 512 # SDXL以前のサイズ\n",
    "SDXL 1:1, 1024, 1024 # Square\n",
    "SDXL 2:3, 836, 1254 # Landscape\n",
    "SDXL 3:4, 886, 1182 # Photo\n",
    "SDXL 9:16, 768, 1344 # Vertical\"\"\"\n",
    "f.write(text)\n",
    "f.close()\n",
    "\n",
    "# 確認\n",
    "!echo -= EXTENSIONS_DIR を確認 =- && ls -l {EXTENSIONS_DIR}"
   ]
  },
  {
   "cell_type": "markdown",
   "metadata": {
    "id": "AstQQh0SPesT",
    "tags": []
   },
   "source": [
    "#### ***SDXL版 ControlNet Model, ADetailer Model のダウンロード***"
   ]
  },
  {
   "cell_type": "code",
   "execution_count": null,
   "metadata": {
    "id": "qpANnwHMPesT",
    "tags": []
   },
   "outputs": [],
   "source": [
    "\"\"\"\n",
    "インストールしないものはコメントアウトする。\n",
    "コメントアウトの方法 → 行頭に『# 』をつける。\n",
    "\"\"\"\n",
    "\n",
    "# ダウンロード方法を定義\n",
    "ARIA2=\"aria2c --console-log-level=error -c -x 16 -s 16 -k 1M\"\n",
    "# Hugging Face の ControlNet Model の共通のダウンロードURLを定義\n",
    "HF_CTN_URL=\"https://huggingface.co/lllyasviel/sd_control_collection/resolve/main\"\n",
    "\n",
    "\n",
    "# ControlNet Model のダウンロード ---------------------------------------------------\n",
    "CTN_MODEL_DIR = \"/home/studio-lab-user/ui/models/ControlNet\"\n",
    "!rm -rf {CTN_MODEL_DIR}/* #ControlNet Model を全て削除（リセット）\n",
    "\n",
    "# Canny\n",
    "# !{ARIA2} {HF_CTN_URL}/sai_xl_canny_256lora.safetensors -d {CTN_MODEL_DIR} -o sai_xl_canny_256lora.safetensors #774 MB\n",
    "# !{ARIA2} {HF_CTN_URL}/sai_xl_canny_128lora.safetensors -d {CTN_MODEL_DIR} -o sai_xl_canny_128lora.safetensors #396 MB\n",
    "# !{ARIA2} {HF_CTN_URL}/kohya_controllllite_xl_canny.safetensors -d {CTN_MODEL_DIR} -o kohya_controllllite_xl_canny.safetensors #46.2 MB\n",
    "\n",
    "# Depth\n",
    "# !{ARIA2} {HF_CTN_URL}/sai_xl_depth_256lora.safetensors -d {CTN_MODEL_DIR} -o sai_xl_depth_256lora.safetensors #774 MB\n",
    "# !{ARIA2} {HF_CTN_URL}/sai_xl_depth_128lora.safetensors -d {CTN_MODEL_DIR} -o sai_xl_depth_128lora.safetensors #396 MB\n",
    "!{ARIA2} {HF_CTN_URL}/kohya_controllllite_xl_depth.safetensors -d {CTN_MODEL_DIR} -o kohya_controllllite_xl_depth.safetensors #46.2 MB\n",
    "\n",
    "# Openpose\n",
    "# !{ARIA2} {HF_CTN_URL}/thibaud_xl_openpose_256lora.safetensors -d {CTN_MODEL_DIR} -o thibaud_xl_openpose_256lora.safetensors #774 MB\n",
    "!{ARIA2} {HF_CTN_URL}/kohya_controllllite_xl_openpose_anime_v2.safetensors -d {CTN_MODEL_DIR} -o kohya_controllllite_xl_openpose_anime_v2.safetensors #46.2 MB\n",
    "\n",
    "# Lineart\n",
    "!{ARIA2} {HF_CTN_URL}/t2i-adapter_diffusers_xl_lineart.safetensors -d {CTN_MODEL_DIR} -o t2i-adapter_diffusers_xl_lineart.safetensors #158 MB\n",
    "\n",
    "# Softedge\n",
    "# !{ARIA2} {HF_CTN_URL}/sargezt_xl_softedge.safetensors -d {CTN_MODEL_DIR} -o sargezt_xl_softedge.safetensors #2.5 GB\n",
    "\n",
    "# Scribble\n",
    "# !{ARIA2} {HF_CTN_URL}/kohya_controllllite_xl_scribble_anime.safetensors -d {CTN_MODEL_DIR} -o kohya_controllllite_xl_scribble_anime.safetensors #46.2 MB\n",
    "\n",
    "# Sketch\n",
    "# !{ARIA2} {HF_CTN_URL}/sai_xl_sketch_256lora.safetensors -d {CTN_MODEL_DIR} -o sai_xl_sketch_256lora.safetensors #774 MB\n",
    "# !{ARIA2} {HF_CTN_URL}/sai_xl_sketch_128lora.safetensors -d {CTN_MODEL_DIR} -o sai_xl_sketch_128lora.safetensors #396 MB\n",
    "\n",
    "# Segmentaion\n",
    "# !{ARIA2} https://civitai.com/api/download/models/154866 -d {CTN_MODEL_DIR} -o Segmentaion.safetensors #84.3 MB\n",
    "\n",
    "# Recolor\n",
    "# !{ARIA2} {HF_CTN_URL}/sai_xl_recolor_256lora.safetensors -d {CTN_MODEL_DIR} -o sai_xl_recolor_256lora.safetensors #774 MB\n",
    "# !{ARIA2} {HF_CTN_URL}/sai_xl_recolor_128lora.safetensors -d {CTN_MODEL_DIR} -o sai_xl_recolor_128lora.safetensors #396 MB\n",
    "\n",
    "# ip-adapter\n",
    "# !{ARIA2} {HF_CTN_URL}/ip-adapter_xl.pth -d {CTN_MODEL_DIR} -o ip-adapter_xl.pth #703 MB\n",
    "!{ARIA2} https://civitai.com/api/download/models/155532 -d {CTN_MODEL_DIR} -o h94-ip-adapter-xl.pth #670 MB\n",
    "\n",
    "# Blur\n",
    "!{ARIA2} {HF_CTN_URL}/kohya_controllllite_xl_blur.safetensors -d {CTN_MODEL_DIR} -o kohya_controllllite_xl_blur.safetensors #46.2 MB\n",
    "# !{ARIA2} {HF_CTN_URL}/kohya_controllllite_xl_blur_anime.safetensors -d {CTN_MODEL_DIR} -o kohya_controllllite_xl_blur_anime.safetensors #46.2 MB\n",
    "\n",
    "\n",
    "# ip-adapter, revision のダウンロードファイル ---------------------------------------------------\n",
    "CTN_DOWNLOADS = \"/home/studio-lab-user/ui/extensions/sd-webui-controlnet/annotator/downloads\"\n",
    "!rm -fr {CTN_DOWNLOADS}/* #ControlNet ダウンロードファイル を全て削除（リセット）\n",
    "# !{ARIA2} https://huggingface.co/lllyasviel/Annotators/resolve/main/clip_g.pth -d {CTN_DOWNLOADS}/clip_vision -o clip_g.pth #3.44 GB\n",
    "\n",
    "\n",
    "# ADetailer Model の追加フォルダ ---------------------------------------------------\n",
    "ADETAILER_MODEL_DIR = \"/home/studio-lab-user/ui/models/adetailer\"\n",
    "!rm -fr {ADETAILER_MODEL_DIR}/* #ADetailer Model を全て削除（リセット）\n",
    "!{ARIA2} https://huggingface.co/Bingsu/adetailer/resolve/main/hand_yolov8s.pt -d {ADETAILER_MODEL_DIR} -o hand_yolov8s.pt\n",
    "\n",
    "# 確認\n",
    "!echo -= CTN_MODEL_DIR を確認 =- && ls -l {CTN_MODEL_DIR}\n",
    "!echo -= CTN_DOWNLOADS を確認 =- && ls -l {CTN_DOWNLOADS}\n",
    "!echo -= ADETAILER_MODEL_DIR を確認 =- && ls -l {ADETAILER_MODEL_DIR}"
   ]
  },
  {
   "cell_type": "markdown",
   "metadata": {
    "id": "CYMWBdUSPesV",
    "tags": []
   },
   "source": [
    "#### ***画像生成 の結果をZipにする***"
   ]
  },
  {
   "cell_type": "code",
   "execution_count": null,
   "metadata": {
    "id": "2WuNEg1WPesV",
    "tags": []
   },
   "outputs": [],
   "source": [
    "# 画像生成 の結果をZipにする。100件以上のフォルダは、100件ごとにZipにする。\n",
    "\n",
    "import os\n",
    "import glob\n",
    "import datetime\n",
    "import zipfile\n",
    "import shutil\n",
    "\n",
    "# 今日日付を取得\n",
    "today = datetime.datetime.now().strftime(\"%Y%m%d_%H%M%S\")\n",
    "\n",
    "# 圧縮したい画像のパス\n",
    "# 画像のパス\n",
    "img_paths = [f\"/home/studio-lab-user/ui/outputs/{folder}\" for folder in [\"txt2img-images\", \"txt2img-grids\", \"img2img-images\", \"img2img-grids\", \"extras-images\"]]\n",
    "\n",
    "# ZIPファイルのパス\n",
    "zip_paths = [f\"/home/studio-lab-user/outputs_{folder}_{today}.zip\" for folder in [\"txt2img-images\", \"txt2img-grids\", \"img2img-images\", \"img2img-grids\", \"extras-images\"]]\n",
    "\n",
    "# 移動対象のフォルダのパス\n",
    "move_paths = [f\"{img_path}/*\" for img_path in img_paths]\n",
    "\n",
    "# 不要なフォルダのパス\n",
    "delete_paths = [f\"/home/studio-lab-user/Delete/{folder}/{today}\" for folder in [\"txt2img-images\", \"txt2img-grids\", \"img2img-images\", \"img2img-grids\", \"extras-images\"]]\n",
    "\n",
    "\n",
    "# ZIPファイルに圧縮する関数\n",
    "def zip_files(img_path, zip_path):\n",
    "    with zipfile.ZipFile(zip_path, \"w\", zipfile.ZIP_DEFLATED) as zf:\n",
    "        # サブフォルダとファイルの全てのパスを取得\n",
    "        for root, dirs, files in os.walk(img_path):\n",
    "            for file in files:\n",
    "                # ZIPファイルに書き込むパスを相対パスにする\n",
    "                rel_path = os.path.relpath(os.path.join(root, file), img_path)\n",
    "                # ZIPファイルに書き込む\n",
    "                zf.write(os.path.join(root, file), rel_path)\n",
    "\n",
    "\n",
    "# img_pathのファイル数が50以上あれば、1, 2のような名前でフォルダを作って、100件ずつ移動させる関数\n",
    "def split_files(img_path):\n",
    "    # img_pathのファイル数を取得\n",
    "    file_count = len(os.listdir(img_path))\n",
    "\n",
    "    # ファイル数が50以上ならば\n",
    "    if file_count > 50:\n",
    "        # フォルダの番号を初期化\n",
    "        folder_num = 1\n",
    "        # ファイルのリストを取得\n",
    "        file_list = os.listdir(img_path)\n",
    "        # ファイルのリストを100件ずつに分割\n",
    "        file_chunks = [file_list[i:i+50] for i in range(0, file_count, 50)]\n",
    "        # 分割したファイルのリストごとに処理\n",
    "        for file_chunk in file_chunks:\n",
    "            # フォルダの名前を作成\n",
    "            folder_name = str(folder_num)\n",
    "            # フォルダのパスを作成\n",
    "            folder_path = os.path.join(img_path, \"zip_\"+folder_name)\n",
    "            # フォルダがなければ作成\n",
    "            if not os.path.exists(folder_path):\n",
    "                os.makedirs(folder_path)\n",
    "            # フォルダにファイルを移動\n",
    "            for file in file_chunk:\n",
    "                file_path = os.path.join(img_path, file)\n",
    "                shutil.move(file_path, folder_path)\n",
    "            # フォルダの番号を更新\n",
    "            folder_num += 1\n",
    "\n",
    "\n",
    "# 画像のパスとZIPファイルのパスのペアごとに圧縮と移動を行う関数\n",
    "def zip_and_move(img_path, zip_path, move_path, delete_path):\n",
    "    # 画像のパスに何もフォルダやファイルがなければスキップする\n",
    "    # if len(os.listdir(img_path)) == 0:\n",
    "    if not os.path.exists(img_path) or len(os.listdir(img_path)) == 0:\n",
    "        return\n",
    "\n",
    "    # img_pathのファイル数が100以上あれば、1, 2のような名前でフォルダを作って、100件ずつ移動させる関数を呼び出す\n",
    "    split_files(img_path)\n",
    "\n",
    "    # img_pathのサブフォルダのリストを取得\n",
    "    subfolder_list = os.listdir(img_path)\n",
    "\n",
    "    # サブフォルダのリストごとに処理\n",
    "    for subfolder in subfolder_list:\n",
    "        # サブフォルダのパスを作成\n",
    "        subfolder_path = os.path.join(img_path, subfolder)\n",
    "        # Zipファイルの名前を作成（末尾にサブフォルダの名前を付け足す）\n",
    "        zip_name = zip_path[:-4] + \"_\" + subfolder + \".zip\"\n",
    "        # Zipファイルに圧縮する関数を呼び出す\n",
    "        zip_files(subfolder_path, zip_name)\n",
    "\n",
    "    # 移動先のディレクトリがなければ作成する\n",
    "    if not os.path.exists(delete_path):\n",
    "        os.makedirs(delete_path)\n",
    "\n",
    "    # ワイルドカードにマッチするパスのリストを取得\n",
    "    move_list = glob.glob(move_path)\n",
    "\n",
    "    # 移動を実行\n",
    "    for file in move_list:\n",
    "        shutil.move(file, delete_path)\n",
    "\n",
    "    print(\"実行 → \", img_path)\n",
    "    !ls {img_path}\n",
    "\n",
    "# 画像のパスとZIPファイルのパスのペアごとに圧縮と移動を行う\n",
    "for img_path, zip_path, move_path, delete_path in zip(img_paths, zip_paths, move_paths, delete_paths):\n",
    "    zip_and_move(img_path, zip_path, move_path, delete_path)"
   ]
  },
  {
   "cell_type": "code",
   "execution_count": null,
   "metadata": {},
   "outputs": [],
   "source": [
    "# 対象のファイルを Zip にする。\n",
    "today = datetime.datetime.now().strftime(\"%Y%m%d_%H%M%S\")\n",
    "\n",
    "img_path = \"圧縮対象のファイル\" # 例 : f\"/home/studio-lab-user/outputs-{today}.zip\"\n",
    "\n",
    "zip_path = \"圧縮ファイル名\" # 例 : Delete/txt2img-images/20230816_130141/2023-08-16/2\n",
    "\n",
    "zip_files(\"/home/studio-lab-user/\"+img_path,zip_path)"
   ]
  },
  {
   "cell_type": "markdown",
   "metadata": {
    "id": "LSuYhcrePesW",
    "tags": []
   },
   "source": [
    "#### ***容量の整理***"
   ]
  },
  {
   "cell_type": "code",
   "execution_count": null,
   "metadata": {
    "id": "UbIkXInaPesW",
    "tags": []
   },
   "outputs": [],
   "source": [
    "\"\"\"\n",
    "削除しないものはコメントアウトする。\n",
    "コメントアウトの方法 → 行頭に『# 』をつける。\n",
    "\"\"\"\n",
    "# Stable Diffusion WebUI の 10MB 以上のファイルの場所とサイズを降順に列挙する。\n",
    "%cd /home/studio-lab-user/ui\n",
    "!find . -size +10M -print0 | du -ch --files0-from=- | sort -hr\n",
    "\n",
    "# bak の中身を全て消す ---------------------------------------------------\n",
    "!rm -fr ./bak/*\n",
    "\n",
    "# 実行時に自動ダウンロードされるファイルを削除する ---------------------------------------------------\n",
    "!rm -fr ./extensions/sd-webui-controlnet/annotator/downloads/* \n",
    "!rm -f ./models/BLIP/model_base_caption_capfilt_large.pth\n",
    "!rm -f ./models/torch_deepdanbooru/model-resnet_custom_v3.pt\n",
    "\n",
    "# 各モデルファイルを全て消す ---------------------------------------------------\n",
    "# !rm -f ./ui/models/Stable-diffusion/* # Model\n",
    "# !rm -f ./ui/models/Lora/* # LoRA\n",
    "# !rm -f ./ui/models/ControlNet/* # Controlnet\n",
    "\n",
    "# 対象のファイルを削除したい場合 ---------------------------------------------------\n",
    "# !rm -f <削除したいファイルのパス>\n",
    "\n",
    "# /dev/nvme2n1 で容量を確認\n",
    "!df -h"
   ]
  },
  {
   "cell_type": "code",
   "execution_count": null,
   "metadata": {
    "id": "tmJatcmiPesW",
    "tags": []
   },
   "outputs": [],
   "source": [
    "# Stable Diffusion WebUI 以外の容量の整理\n",
    "!rm -rf /home/studio-lab-user/.ipynb_checkpoints\n",
    "!rm -rf /home/studio-lab-user/.cache # キャッシュの削除\n",
    "# !rm -rf /home/studio-lab-user/.conda #リセット（最初からやり直すなら実行）\n",
    "\n",
    "# /dev/nvme2n1 で容量を確認\n",
    "!df -h"
   ]
  },
  {
   "cell_type": "markdown",
   "metadata": {
    "tags": []
   },
   "source": [
    "#### ***環境のリセット***"
   ]
  },
  {
   "cell_type": "code",
   "execution_count": null,
   "metadata": {},
   "outputs": [],
   "source": [
    "# 環境をリセット（削除）\n",
    "conda activate sd_env\n",
    "conda deactivate\n",
    "conda remove -y -n sd_env --all"
   ]
  },
  {
   "cell_type": "markdown",
   "metadata": {},
   "source": [
    "#### ***AUTOMATIC1111アップデート（アップデートが必要な時のみ実行）***"
   ]
  },
  {
   "cell_type": "code",
   "execution_count": null,
   "metadata": {},
   "outputs": [],
   "source": [
    "# Stable Diffusion WebUI を最新版にアップデートする。\n",
    "%cd /notebooks/ui\n",
    "!git checkout master\n",
    "!git pull"
   ]
  }
 ],
 "metadata": {
  "accelerator": "GPU",
  "colab": {
   "private_outputs": true,
   "provenance": []
  },
  "gpuClass": "standard",
  "kernelspec": {
   "display_name": "sd_env:Python",
   "language": "python",
   "name": "conda-env-sd_env-py"
  },
  "language_info": {
   "codemirror_mode": {
    "name": "ipython",
    "version": 3
   },
   "file_extension": ".py",
   "mimetype": "text/x-python",
   "name": "python",
   "nbconvert_exporter": "python",
   "pygments_lexer": "ipython3",
   "version": "3.10.6"
  },
  "vscode": {
   "interpreter": {
    "hash": "e593ac106456af50ce7af38f9671c411b49d6cd90f9b885e167f0f594e09038c"
   }
  }
 },
 "nbformat": 4,
 "nbformat_minor": 4
}
