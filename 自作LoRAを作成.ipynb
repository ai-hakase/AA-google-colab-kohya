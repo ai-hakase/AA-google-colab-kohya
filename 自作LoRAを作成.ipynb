{
  "cells": [
    {
      "cell_type": "markdown",
      "metadata": {
        "id": "view-in-github",
        "colab_type": "text"
      },
      "source": [
        "<a href=\"https://colab.research.google.com/github/koya-jp/google-colab-kohya/blob/master/%E8%87%AA%E4%BD%9CLoRA%E3%82%92%E4%BD%9C%E6%88%90.ipynb\" target=\"_parent\"><img src=\"https://colab.research.google.com/assets/colab-badge.svg\" alt=\"Open In Colab\"/></a>"
      ]
    },
    {
      "cell_type": "code",
      "source": [
        "# @title 自作LoRAを作成 { display-mode: \"both\" }\n",
        "\n",
        "# 参考：\n",
        "# https://tkstock.site/2023/05/19/googlecolab-stablediffusion-lora-finetuning/\n",
        "# https://indoortimes.net/index.php/ai/stable_diffusion/lora_making/\n",
        "# https://blog.14nigo.net/2023/03/trytocreatelora.html?m=1\n",
        "\n",
        "from google.colab import drive\n",
        "drive.mount('/content/drive')\n",
        "\n",
        "!sudo apt autoremove >/dev/null 2>&1\n",
        "!sudo apt-get -y update >/dev/null 2>&1\n",
        "!sudo apt-get -y install python3.10 >/dev/null 2>&1\n",
        "\n",
        "!sudo cp `which python3.10` /usr/local/bin/python\n",
        "\n",
        "!wget https://bootstrap.pypa.io/get-pip.py >/dev/null 2>&1\n",
        "!sudo python get-pip.py >/dev/null 2>&1\n",
        "\n",
        "!python --version\n",
        "!pip --version\n",
        "\n",
        "import os\n",
        "os.makedirs(\"/content/drive/My Drive/work\", exist_ok=True)\n",
        "%cd '/content/drive/My Drive/work'\n",
        "\n",
        "# パッケージのインストール\n",
        "# git clone する\n",
        "!git clone https://github.com/kohya-ss/sd-scripts >/dev/null 2>&1\n",
        "%cd sd-scripts\n",
        "print(\"current directory is -> \")\n",
        "%pwd\n",
        "\n",
        "!pip install torch==1.13.1+cu117 torchvision==0.14.1+cu117 --extra-index-url https://download.pytorch.org/whl/cu117 >/dev/null 2>&1\n",
        "!pip install --upgrade -r requirements.txt >/dev/null 2>&1\n",
        "!pip install -U --pre triton >/dev/null 2>&1\n",
        "!pip install xformers==0.0.16rc425 >/dev/null 2>&1\n",
        "\n",
        "!accelerate config default --mixed_precision fp16 >/dev/null 2>&1\n",
        "\n",
        "# sd-scriptsに配下に訓練用画像をコピーする\n",
        "%cp -r /content/drive/MyDrive/Lora_rum_sama/Images /content/drive/My Drive/work/sd-scripts/\n",
        "\n",
        "# 画像にキャプションを付与する\n",
        "!python finetune/make_captions.py --batch_size 8 /content/drive/My Drive/work/sd-scripts/Images &> /dev/null\n",
        "!python finetune/tag_images_by_wd14_tagger.py --batch_size 4 /content/drive/My Drive/work/sd-scripts/Images &> /dev/null\n",
        "\n",
        "!python finetune/merge_captions_to_metadata.py /content/drive/My Drive/work/sd-scripts/Images meta_cap.json &> /dev/null\n",
        "!python finetune/merge_dd_tags_to_metadata.py /content/drive/My Drive/work/sd-scripts/Images --in_json meta_cap.json meta_cap_dd.json &> /dev/null\n",
        "!python finetune/clean_captions_and_tags.py meta_cap_dd.json meta_clean.json &> /dev/null\n",
        "\n",
        "!python finetune/prepare_buckets_latents.py /content/drive/My Drive/work/sd-scripts/Images meta_clean.json meta_lat.json /content/drive/MyDrive/Lora_rum_sama/Model/majicmixRealistic_v6.safetensors --batch_size 4 --max_resolution 512,512 --mixed_precision no &> /dev/null\n",
        "\n",
        "!accelerate launch  --num_cpu_threads_per_process 1 train_network.py --pretrained_model_name_or_path=/content/drive/MyDrive/Lora_rum_sama/Model/majicmixRealistic_v6.safetensors --in_json meta_lat.json --train_data_dir=/content/drive/My Drive/work/sd-scripts/Images --output_dir=output_models --shuffle_caption --train_batch_size=1 --learning_rate=1e-4 --max_train_steps=400 --use_8bit_adam --xformers --gradient_checkpointing --mixed_precision=fp16 --save_every_n_epochs=4 --save_precision=fp16 --save_model_as=safetensors  --network_module=networks.lora\n",
        "\n",
        "# 学習に使用した画像のプロンプトを確認する\n",
        "!cat /content/drive/MyDrive/sd-scripts/Images/*.txt\n",
        "\n",
        "# 最後の学習モデルをDriveに保存する\n",
        "!cp output_models/last.safetensors /content/drive/MyDrive/Lora/pretty-cut-rum-sama.safetensors\n"
      ],
      "metadata": {
        "id": "z2iYwkxo696S",
        "colab": {
          "base_uri": "https://localhost:8080/"
        },
        "outputId": "e9f775ed-aab2-451b-9aa2-097444f54a22"
      },
      "execution_count": null,
      "outputs": [
        {
          "output_type": "stream",
          "name": "stdout",
          "text": [
            "Mounted at /content/drive\n",
            "Python 3.10.12\n",
            "pip 23.1.2 from /usr/local/lib/python3.10/dist-packages/pip (python 3.10)\n",
            "/content/drive/My Drive/work\n",
            "/content/drive/My Drive/work/sd-scripts\n",
            "current directory is -> \n"
          ]
        }
      ]
    },
    {
      "cell_type": "code",
      "source": [
        "# 学習に使用した画像のプロンプトを確認する\n",
        "!cat /content/drive/MyDrive/sd-scripts/Images/*.txt\n"
      ],
      "metadata": {
        "id": "cj1hPhCet0rF"
      },
      "execution_count": null,
      "outputs": []
    },
    {
      "cell_type": "code",
      "source": [
        "# google.colabライブラリのインポート\n",
        "import google.colab\n",
        "\n",
        "# ランタイムの接続を解除して削除\n",
        "google.colab.runtime.unassign()"
      ],
      "metadata": {
        "id": "JrF_7b9oj4LT"
      },
      "execution_count": null,
      "outputs": []
    }
  ],
  "metadata": {
    "accelerator": "GPU",
    "colab": {
      "provenance": [],
      "include_colab_link": true
    },
    "kernelspec": {
      "display_name": "Python 3",
      "name": "python3"
    },
    "language_info": {
      "name": "python"
    }
  },
  "nbformat": 4,
  "nbformat_minor": 0
}